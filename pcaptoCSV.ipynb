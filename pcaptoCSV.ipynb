{
 "cells": [
  {
   "cell_type": "code",
   "execution_count": 3,
   "metadata": {},
   "outputs": [
    {
     "name": "stdout",
     "output_type": "stream",
     "text": [
      "Processing PCAP files\n",
      "No CSV files were generated from PCAP files.\n"
     ]
    }
   ],
   "source": [
    "import os\n",
    "import subprocess\n",
    "import pandas as pd\n",
    "from tqdm import tqdm\n",
    "\n",
    "def convert_pcap_to_csv(input_file, output_dir):\n",
    "    os.makedirs(output_dir, exist_ok=True)\n",
    "    output_file = os.path.join(output_dir, os.path.splitext(os.path.basename(input_file))[0] + '.csv')\n",
    "    \n",
    "    command = f\"cicflowmeter -f {input_file} -c {output_file}\"\n",
    "    \n",
    "    try:\n",
    "        subprocess.run(command, shell=True, check=True)\n",
    "        print(f\"Successfully converted {input_file} to {output_file}\")\n",
    "        return output_file\n",
    "    except subprocess.CalledProcessError as e:\n",
    "        print(f\"Error converting {input_file}: {e}\")\n",
    "        return None\n",
    "\n",
    "def process_pcap_files(input_directory, output_directory):\n",
    "    print(\"Processing PCAP files\")\n",
    "    csv_files = []\n",
    "    \n",
    "    for root, _, files in os.walk(input_directory):\n",
    "        for file in tqdm(files, desc=\"Converting PCAP files\"):\n",
    "            if file.endswith('.pcap'):\n",
    "                input_file = os.path.join(root, file)\n",
    "                converted_file = convert_pcap_to_csv(input_file, output_directory)\n",
    "                if converted_file:\n",
    "                    csv_files.append(converted_file)\n",
    "    \n",
    "    return csv_files\n",
    "\n",
    "def combine_csv_files(csv_files, output_file):\n",
    "    print(f\"Combining {len(csv_files)} CSV files\")\n",
    "    try:\n",
    "        dfs = []\n",
    "        for file in tqdm(csv_files, desc=\"Reading CSV files\"):\n",
    "            try:\n",
    "                df = pd.read_csv(file, low_memory=False)\n",
    "                if not df.empty:\n",
    "                    dfs.append(df)\n",
    "                else:\n",
    "                    print(f\"Warning: Skipping empty CSV file: {file}\")\n",
    "            except Exception as e:\n",
    "                print(f\"Error processing {file}: {e}\")\n",
    "        \n",
    "        if dfs:\n",
    "            combined_df = pd.concat(dfs, ignore_index=True)\n",
    "            combined_df.to_csv(output_file, index=False)\n",
    "            print(f\"Combined CSV saved to {output_file}\")\n",
    "            print(f\"Total rows in combined CSV: {len(combined_df)}\")\n",
    "        else:\n",
    "            print(\"Error: No non-empty CSV files to combine.\")\n",
    "    except Exception as e:\n",
    "        print(f\"Error combining CSV files: {e}\")\n",
    "\n",
    "if __name__ == \"__main__\":\n",
    "    input_directory = \"./inputs\"\n",
    "    output_directory = \"./output\"\n",
    "    combined_output = os.path.join(output_directory, \"combined_output.csv\")\n",
    "\n",
    "    os.makedirs(output_directory, exist_ok=True)\n",
    "    \n",
    "    # Process PCAP files\n",
    "    csv_files = process_pcap_files(input_directory, output_directory)\n",
    "    \n",
    "    # Combine CSV files\n",
    "    if csv_files:\n",
    "        combine_csv_files(csv_files, combined_output)\n",
    "    else:\n",
    "        print(\"No CSV files were generated from PCAP files.\")"
   ]
  }
 ],
 "metadata": {
  "kernelspec": {
   "display_name": "Python 3",
   "language": "python",
   "name": "python3"
  },
  "language_info": {
   "codemirror_mode": {
    "name": "ipython",
    "version": 3
   },
   "file_extension": ".py",
   "mimetype": "text/x-python",
   "name": "python",
   "nbconvert_exporter": "python",
   "pygments_lexer": "ipython3",
   "version": "3.11.3"
  }
 },
 "nbformat": 4,
 "nbformat_minor": 2
}
