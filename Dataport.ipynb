{
 "cells": [
  {
   "cell_type": "code",
   "execution_count": null,
   "metadata": {},
   "outputs": [],
   "source": [
    "import gdown\n",
    "from tqdm import tqdm\n",
    "import zipfile\n",
    "import os\n",
    "\n",
    "def download_and_extract(url, output, extract=True):\n",
    "    \"\"\"\n",
    "    Download a file from Google Drive and optionally extract it if it's a zip file.\n",
    "    Shows a progress bar for both download and extraction.\n",
    "    \"\"\"\n",
    "    # Download the file\n",
    "    print(f\"Downloading {output}...\")\n",
    "    with tqdm(unit='B', unit_scale=True, unit_divisor=1024, miniters=1, desc=output) as progress_bar:\n",
    "        gdown.download(url, output, quiet=False, callback=lambda x: progress_bar.update(x))\n",
    "    \n",
    "    if extract and output.endswith('.zip'):\n",
    "        # Extract the file if it's a zip\n",
    "        print(f\"\\nExtracting {output}...\")\n",
    "        with zipfile.ZipFile(output, 'r') as zip_ref:\n",
    "            total = sum((file.file_size for file in zip_ref.infolist()))\n",
    "            extracted = 0\n",
    "            with tqdm(total=total, unit='B', unit_scale=True, unit_divisor=1024, miniters=1, desc=\"Extracting\") as progress_bar:\n",
    "                for file in zip_ref.infolist():\n",
    "                    zip_ref.extract(file)\n",
    "                    extracted += file.file_size\n",
    "                    progress_bar.update(file.file_size)\n",
    "        \n",
    "        #remove the zip file after extraction\n",
    "        os.remove(output)\n",
    "        print(f\"\\n{output} has been extracted and the zip file has been removed.\")\n",
    "    else:\n",
    "        print(f\"\\n{output} has been downloaded successfully.\")\n",
    "\n",
    "''' Usage example\n",
    "url = \"https://drive.google.com/uc?id=YOUR_FILE_ID\"\n",
    "output = \"dataset.zip\"  # Change this to your desired filename\n",
    "\n",
    "download_and_extract(url, output) '''"
   ]
  }
 ],
 "metadata": {
  "kernelspec": {
   "display_name": "Python 3",
   "language": "python",
   "name": "python3"
  },
  "language_info": {
   "codemirror_mode": {
    "name": "ipython",
    "version": 3
   },
   "file_extension": ".py",
   "mimetype": "text/x-python",
   "name": "python",
   "nbconvert_exporter": "python",
   "pygments_lexer": "ipython3",
   "version": "3.11.3"
  }
 },
 "nbformat": 4,
 "nbformat_minor": 2
}
