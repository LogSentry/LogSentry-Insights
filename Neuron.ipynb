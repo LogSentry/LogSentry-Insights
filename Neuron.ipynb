{
 "cells": [
  {
   "cell_type": "code",
   "execution_count": 2,
   "metadata": {},
   "outputs": [
    {
     "data": {
      "text/plain": [
       "0"
      ]
     },
     "execution_count": 2,
     "metadata": {},
     "output_type": "execute_result"
    }
   ],
   "source": [
    "import sys\n",
    "import subprocess\n",
    "\n",
    "# gonna creat a vir env cuz why not//// i dont want to mess up my system\n",
    "\n",
    "# Create a virtual environment\n",
    "subprocess.check_call([sys.executable, \"-m\", \"venv\", \"myenv\"])\n",
    "\n",
    "# Activate the virtual environment\n",
    "if sys.platform.startswith('win'):\n",
    "    activate_script = \"myenv\\\\Scripts\\\\activate\"\n",
    "else:\n",
    "    activate_script = \"source myenv/bin/activate\"\n",
    "subprocess.check_call(activate_script, shell=True)\n",
    "\n",
    "# Install numpy\n",
    "subprocess.check_call([\"pip\", \"install\", \"numpy\"])\n",
    "\n",
    "# Install tools for multi-threading and multi-core processing\n",
    "subprocess.check_call([\"pip\", \"install\", \"threadpool\", \"multiprocess\"])"
   ]
  },
  {
   "cell_type": "code",
   "execution_count": 10,
   "metadata": {},
   "outputs": [],
   "source": [
    "import numpy as np\n",
    "\n",
    "#first neuron implimetaion of neron funtion\n",
    "class Neuron:\n",
    "    def __init__(self, num_inputs):\n",
    "        # Initialize weights randomly\n",
    "        self.weights = np.random.rand(num_inputs)\n",
    "        # Initialize bias randomly\n",
    "        self.bias = np.random.rand()\n",
    "    \n",
    "    def frontProp(self, input):\n",
    "        # Calculate the weighted sum of inputs... it first multiplies each input by its weight and then sums them up\n",
    "        weighted_sum = np.dot(input, self.weights) + self.bias\n",
    "        # Apply activation function (e.g., sigmoid)\n",
    "        activation = self.sigmoid(weighted_sum)\n",
    "        return activation\n",
    "    \n",
    "    def sigmoid(self, x):\n",
    "        return 1 / (1 + np.exp(-x))"
   ]
  },
  {
   "cell_type": "code",
   "execution_count": 11,
   "metadata": {},
   "outputs": [
    {
     "name": "stdout",
     "output_type": "stream",
     "text": [
      "0.7690480920224001\n"
     ]
    }
   ],
   "source": [
    "inputs = np.array([0.5, 0.3, 0.8]) \n",
    "neuron = Neuron(num_inputs=3)  # Create an instance of the Neuron class with 3 input neurons\n",
    "activation = neuron.frontProp(inputs)  # Activate the neuron with the given inputs\n",
    "print(activation) "
   ]
  },
  {
   "cell_type": "code",
   "execution_count": 86,
   "metadata": {},
   "outputs": [],
   "source": [
    "import numpy as np\n",
    "\n",
    "# secind neuron implimetaion of neron funtion with teh bality to take 2 dimental inputs\n",
    "class neuron2Col:\n",
    "    def __init__(self, inputs):\n",
    "        # Ensure inputs is a 2D array\n",
    "        if inputs.ndim == 1:\n",
    "            inputs = inputs.reshape(1, -1)\n",
    "        \n",
    "        # Initialize weights randomly\n",
    "        self.weights = np.random.rand(inputs.shape[1])\n",
    "        self.inputs = inputs\n",
    "        # Initialize bias randomly\n",
    "        self.bias = np.random.rand()\n",
    "    \n",
    "    def frontProp(self):\n",
    "        # Get the inputs to a variable\n",
    "        inputs = self.inputs\n",
    "\n",
    "        # Check if inputs is one-dimensional\n",
    "        if inputs.ndim == 1:\n",
    "            # Reshape inputs to be two-dimensional\n",
    "            inputs = inputs.reshape(1, -1)\n",
    "        \n",
    "        # Calculate the weighted sum of inputs\n",
    "        weighted_sum = np.dot(inputs, self.weights) + self.bias\n",
    "\n",
    "        # Apply activation function \n",
    "        activation = self.sigmoid(weighted_sum)\n",
    "        \n",
    "        return activation\n",
    "    \n",
    "    def sigmoid(self, x):\n",
    "        return 1 / (1 + np.exp(-x))\n",
    "\n",
    "\n"
   ]
  },
  {
   "cell_type": "code",
   "execution_count": 112,
   "metadata": {},
   "outputs": [
    {
     "name": "stdout",
     "output_type": "stream",
     "text": [
      "Activation: [0.84796836 0.88687942]\n",
      "Error: [0.00230096 0.23705157]\n"
     ]
    }
   ],
   "source": [
    "# Test the neuron\n",
    "inputs = np.array([[1, 0.5, 0.3, 0.8], [0.2, 0.5,0.8, 0.4]])\n",
    "neuron = neuron2Col(inputs)\n",
    "activation = neuron.frontProp()\n",
    "print(\"Activation:\", activation)\n",
    "# now clauclate hoe far off the activation is from the target\n",
    "# Calculate the error\n",
    "target = np.array([0.8, 0.4])\n",
    "error = np.square(target - activation) # square error funtion is used to calculate the error since the diffrence can be so small \n",
    "print(\"Error:\", error)"
   ]
  }
 ],
 "metadata": {
  "kernelspec": {
   "display_name": "Python 3",
   "language": "python",
   "name": "python3"
  },
  "language_info": {
   "codemirror_mode": {
    "name": "ipython",
    "version": 3
   },
   "file_extension": ".py",
   "mimetype": "text/x-python",
   "name": "python",
   "nbconvert_exporter": "python",
   "pygments_lexer": "ipython3",
   "version": "3.11.3"
  }
 },
 "nbformat": 4,
 "nbformat_minor": 2
}
