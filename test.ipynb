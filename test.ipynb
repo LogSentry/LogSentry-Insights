{
 "cells": [
  {
   "cell_type": "code",
   "execution_count": 18,
   "metadata": {},
   "outputs": [
    {
     "ename": "ImportError",
     "evalue": "cannot import name 'process_network_csv' from 'net_ninja' (unknown location)",
     "output_type": "error",
     "traceback": [
      "\u001b[1;31m---------------------------------------------------------------------------\u001b[0m",
      "\u001b[1;31mImportError\u001b[0m                               Traceback (most recent call last)",
      "Cell \u001b[1;32mIn[18], line 9\u001b[0m\n\u001b[0;32m      7\u001b[0m \u001b[38;5;28;01mimport\u001b[39;00m \u001b[38;5;21;01mos\u001b[39;00m\n\u001b[0;32m      8\u001b[0m sys\u001b[38;5;241m.\u001b[39mpath\u001b[38;5;241m.\u001b[39mappend(\u001b[38;5;124m'\u001b[39m\u001b[38;5;124mE:\u001b[39m\u001b[38;5;130;01m\\\\\u001b[39;00m\u001b[38;5;124mLogicInsights\u001b[39m\u001b[38;5;124m'\u001b[39m)\n\u001b[1;32m----> 9\u001b[0m \u001b[38;5;28;01mfrom\u001b[39;00m \u001b[38;5;21;01mnet_ninja\u001b[39;00m \u001b[38;5;28;01mimport\u001b[39;00m process_network_csv\n",
      "\u001b[1;31mImportError\u001b[0m: cannot import name 'process_network_csv' from 'net_ninja' (unknown location)"
     ]
    }
   ],
   "source": [
    "import pandas as pd\n",
    "import numpy as np\n",
    "import matplotlib.pyplot as plt\n",
    "import seaborn as sns\n",
    "from sklearn.preprocessing import StandardScaler, LabelEncoder\n",
    "import sys\n",
    "import os\n",
    "sys.path.append('E:\\\\LogicInsights')\n",
    "from net_ninja import process_network_csv"
   ]
  },
  {
   "cell_type": "code",
   "execution_count": 19,
   "metadata": {},
   "outputs": [
    {
     "name": "stdout",
     "output_type": "stream",
     "text": [
      "<module 'net_ninja' (<_frozen_importlib_external.NamespaceLoader object at 0x00000229AEB64050>)>\n",
      "['__doc__', '__file__', '__loader__', '__name__', '__package__', '__path__', '__spec__']\n"
     ]
    }
   ],
   "source": [
    "import sys\n",
    "import os\n",
    "sys.path.append('E:\\\\LogicInsights')\n",
    "\n",
    "import net_ninja\n",
    "print(net_ninja)\n",
    "print(dir(net_ninja))"
   ]
  },
  {
   "cell_type": "code",
   "execution_count": 20,
   "metadata": {},
   "outputs": [
    {
     "name": "stdout",
     "output_type": "stream",
     "text": [
      "['build', 'net_ninja', 'net_ninja.egg-info', 'README.md', 'setup.py']\n",
      "['generator.py', '__init__.py']\n"
     ]
    }
   ],
   "source": [
    "print(os.listdir('E:\\\\LogicInsights\\\\net_ninja'))\n",
    "print(os.listdir('E:\\\\LogicInsights\\\\net_ninja\\\\net_ninja'))"
   ]
  },
  {
   "cell_type": "code",
   "execution_count": 21,
   "metadata": {},
   "outputs": [
    {
     "ename": "ImportError",
     "evalue": "cannot import name 'process_network_csv' from 'net_ninja' (unknown location)",
     "output_type": "error",
     "traceback": [
      "\u001b[1;31m---------------------------------------------------------------------------\u001b[0m",
      "\u001b[1;31mImportError\u001b[0m                               Traceback (most recent call last)",
      "Cell \u001b[1;32mIn[21], line 4\u001b[0m\n\u001b[0;32m      2\u001b[0m \u001b[38;5;28;01mimport\u001b[39;00m \u001b[38;5;21;01mnet_ninja\u001b[39;00m\n\u001b[0;32m      3\u001b[0m importlib\u001b[38;5;241m.\u001b[39mreload(net_ninja)\n\u001b[1;32m----> 4\u001b[0m \u001b[38;5;28;01mfrom\u001b[39;00m \u001b[38;5;21;01mnet_ninja\u001b[39;00m \u001b[38;5;28;01mimport\u001b[39;00m process_network_csv\n",
      "\u001b[1;31mImportError\u001b[0m: cannot import name 'process_network_csv' from 'net_ninja' (unknown location)"
     ]
    }
   ],
   "source": [
    "import importlib\n",
    "import net_ninja\n",
    "importlib.reload(net_ninja)\n",
    "from net_ninja import process_network_csv"
   ]
  },
  {
   "cell_type": "code",
   "execution_count": 22,
   "metadata": {},
   "outputs": [
    {
     "name": "stdout",
     "output_type": "stream",
     "text": [
      "from .generator import process_network_csv\n"
     ]
    }
   ],
   "source": [
    "with open('E:\\\\LogicInsights\\\\net_ninja\\\\net_ninja\\\\__init__.py', 'r') as f:\n",
    "    print(f.read())"
   ]
  },
  {
   "cell_type": "code",
   "execution_count": 23,
   "metadata": {},
   "outputs": [
    {
     "name": "stdout",
     "output_type": "stream",
     "text": [
      "import pandas as pd\n",
      "import numpy as np\n",
      "from collections import Counter\n",
      "import requests\n",
      "import re\n",
      "from scipy.stats import entropy\n",
      "from concurrent.futures import ThreadPoolExecutor, as_completed\n",
      "import os\n",
      "\n",
      "def process_network_csv(csv_path, output_path=None):\n",
      "    \"\"\"\n",
      "    Process a network traffic CSV file to generate enhanced features for attack detection.\n",
      "    \n",
      "    :param csv_path: str, path to the input CSV file\n",
      "    :param output_path: str, optional path to save the output CSV file\n",
      "    :return: pa\n"
     ]
    }
   ],
   "source": [
    "with open('E:\\\\LogicInsights\\\\net_ninja\\\\net_ninja\\\\generator.py', 'r') as f:\n",
    "    print(f.read()[:500]) "
   ]
  },
  {
   "cell_type": "code",
   "execution_count": 24,
   "metadata": {},
   "outputs": [
    {
     "ename": "ImportError",
     "evalue": "cannot import name 'generator' from 'net_ninja' (unknown location)",
     "output_type": "error",
     "traceback": [
      "\u001b[1;31m---------------------------------------------------------------------------\u001b[0m",
      "\u001b[1;31mImportError\u001b[0m                               Traceback (most recent call last)",
      "Cell \u001b[1;32mIn[24], line 1\u001b[0m\n\u001b[1;32m----> 1\u001b[0m \u001b[38;5;28;01mfrom\u001b[39;00m \u001b[38;5;21;01mnet_ninja\u001b[39;00m \u001b[38;5;28;01mimport\u001b[39;00m generator\n\u001b[0;32m      2\u001b[0m \u001b[38;5;28mprint\u001b[39m(\u001b[38;5;28mdir\u001b[39m(generator))\n",
      "\u001b[1;31mImportError\u001b[0m: cannot import name 'generator' from 'net_ninja' (unknown location)"
     ]
    }
   ],
   "source": [
    "from net_ninja import generator\n",
    "print(dir(generator))\n",
    "\n"
   ]
  },
  {
   "cell_type": "code",
   "execution_count": 25,
   "metadata": {},
   "outputs": [
    {
     "name": "stdout",
     "output_type": "stream",
     "text": [
      "['c:\\\\Users\\\\kani2\\\\AppData\\\\Local\\\\Programs\\\\Python\\\\Python311\\\\python311.zip', 'c:\\\\Users\\\\kani2\\\\AppData\\\\Local\\\\Programs\\\\Python\\\\Python311\\\\DLLs', 'c:\\\\Users\\\\kani2\\\\AppData\\\\Local\\\\Programs\\\\Python\\\\Python311\\\\Lib', 'c:\\\\Users\\\\kani2\\\\AppData\\\\Local\\\\Programs\\\\Python\\\\Python311', '', 'C:\\\\Users\\\\kani2\\\\AppData\\\\Roaming\\\\Python\\\\Python311\\\\site-packages', 'C:\\\\Users\\\\kani2\\\\AppData\\\\Roaming\\\\Python\\\\Python311\\\\site-packages\\\\win32', 'C:\\\\Users\\\\kani2\\\\AppData\\\\Roaming\\\\Python\\\\Python311\\\\site-packages\\\\win32\\\\lib', 'C:\\\\Users\\\\kani2\\\\AppData\\\\Roaming\\\\Python\\\\Python311\\\\site-packages\\\\Pythonwin', 'c:\\\\Users\\\\kani2\\\\AppData\\\\Local\\\\Programs\\\\Python\\\\Python311\\\\Lib\\\\site-packages', 'E:\\\\LogicInsights', 'E:\\\\LogicInsights', 'E:\\\\LogicInsights']\n",
      "<module 'net_ninja' (<_frozen_importlib_external.NamespaceLoader object at 0x00000229AE843910>)>\n",
      "['__doc__', '__file__', '__loader__', '__name__', '__package__', '__path__', '__spec__']\n",
      "None\n"
     ]
    },
    {
     "ename": "ImportError",
     "evalue": "cannot import name 'generator' from 'net_ninja' (unknown location)",
     "output_type": "error",
     "traceback": [
      "\u001b[1;31m---------------------------------------------------------------------------\u001b[0m",
      "\u001b[1;31mImportError\u001b[0m                               Traceback (most recent call last)",
      "Cell \u001b[1;32mIn[25], line 10\u001b[0m\n\u001b[0;32m      6\u001b[0m \u001b[38;5;28mprint\u001b[39m(\u001b[38;5;28mdir\u001b[39m(net_ninja))\n\u001b[0;32m      8\u001b[0m \u001b[38;5;28mprint\u001b[39m(net_ninja\u001b[38;5;241m.\u001b[39m\u001b[38;5;18m__file__\u001b[39m)\n\u001b[1;32m---> 10\u001b[0m \u001b[38;5;28;01mfrom\u001b[39;00m \u001b[38;5;21;01mnet_ninja\u001b[39;00m \u001b[38;5;28;01mimport\u001b[39;00m generator\n\u001b[0;32m     11\u001b[0m \u001b[38;5;28mprint\u001b[39m(\u001b[38;5;28mdir\u001b[39m(generator))\n",
      "\u001b[1;31mImportError\u001b[0m: cannot import name 'generator' from 'net_ninja' (unknown location)"
     ]
    }
   ],
   "source": [
    "import sys\n",
    "print(sys.path)\n",
    "\n",
    "import net_ninja\n",
    "print(net_ninja)\n",
    "print(dir(net_ninja))\n",
    "\n",
    "print(net_ninja.__file__)\n",
    "\n",
    "from net_ninja import generator\n",
    "print(dir(generator))"
   ]
  },
  {
   "cell_type": "code",
   "execution_count": 26,
   "metadata": {},
   "outputs": [
    {
     "name": "stdout",
     "output_type": "stream",
     "text": [
      "net-ninja 0.1\n"
     ]
    },
    {
     "name": "stderr",
     "output_type": "stream",
     "text": [
      "C:\\Users\\kani2\\AppData\\Local\\Temp\\ipykernel_22208\\1694881425.py:2: UserWarning: Module net_ninja was already imported from None, but e:\\logicinsights\\net_ninja is being added to sys.path\n",
      "  print(pkg_resources.get_distribution(\"net-ninja\"))\n"
     ]
    }
   ],
   "source": [
    "['c:\\\\Users\\\\kani2\\\\AppData\\\\Local\\\\Programs\\\\Python\\\\Python311\\\\python311.zip', 'c:\\\\Users\\\\kani2\\\\AppData\\\\Local\\\\Programs\\\\Python\\\\Python311\\\\DLLs', 'c:\\\\Users\\\\kani2\\\\AppData\\\\Local\\\\Programs\\\\Python\\\\Python311\\\\Lib', 'c:\\\\Users\\\\kani2\\\\AppData\\\\Local\\\\Programs\\\\Python\\\\Python311', '', 'C:\\\\Users\\\\kani2\\\\AppData\\\\Roaming\\\\Python\\\\Python311\\\\site-packages', 'C:\\\\Users\\\\kani2\\\\AppData\\\\Roaming\\\\Python\\\\Python311\\\\site-packages\\\\win32', 'C:\\\\Users\\\\kani2\\\\AppData\\\\Roaming\\\\Python\\\\Python311\\\\site-packages\\\\win32\\\\lib', 'C:\\\\Users\\\\kani2\\\\AppData\\\\Roaming\\\\Python\\\\Python311\\\\site-packages\\\\Pythonwin', 'c:\\\\Users\\\\kani2\\\\AppData\\\\Local\\\\Programs\\\\Python\\\\Python311\\\\Lib\\\\site-packages', 'E:\\\\LogicInsights', 'E:\\\\LogicInsights', 'E:\\\\LogicInsights']\n",
    "<module 'net_ninja' (<_frozen_importlib_external.NamespaceLoader object at 0x00000229AE843910>)>\n",
    "['__doc__', '__file__', '__loader__', '__name__', '__package__', '__path__', '__spec__']\n",
    "None\n",
    "---------------------------------------------------------------------------\n",
    "ImportError                               Traceback (most recent call last)\n",
    "Cell In[25], line 10\n",
    "      6 print(dir(net_ninja))\n",
    "      8 print(net_ninja.__file__)\n",
    "---> 10 from net_ninja import generator\n",
    "     11 print(dir(generator))\n",
    "\n",
    "ImportError: cannot import name 'generator' from 'net_ninja' (unknown location)"
   ]
  },
  {
   "cell_type": "code",
   "execution_count": 12,
   "metadata": {},
   "outputs": [
    {
     "name": "stdout",
     "output_type": "stream",
     "text": [
      "ImportError: cannot import name 'generator' from 'net_ninja' (unknown location)\n"
     ]
    }
   ],
   "source": [
    "try:\n",
    "    from net_ninja import generator\n",
    "    print(generator)\n",
    "except ImportError as e:\n",
    "    print(f\"ImportError: {e}\")"
   ]
  },
  {
   "cell_type": "code",
   "execution_count": 16,
   "metadata": {},
   "outputs": [
    {
     "name": "stdout",
     "output_type": "stream",
     "text": [
      "[]\n"
     ]
    }
   ],
   "source": [
    "import sys\n",
    "print([p for p in sys.path if 'net_ninja' in p])"
   ]
  }
 ],
 "metadata": {
  "kernelspec": {
   "display_name": "Python 3",
   "language": "python",
   "name": "python3"
  },
  "language_info": {
   "codemirror_mode": {
    "name": "ipython",
    "version": 3
   },
   "file_extension": ".py",
   "mimetype": "text/x-python",
   "name": "python",
   "nbconvert_exporter": "python",
   "pygments_lexer": "ipython3",
   "version": "3.11.3"
  }
 },
 "nbformat": 4,
 "nbformat_minor": 2
}
