{
 "cells": [
  {
   "cell_type": "code",
   "execution_count": 2,
   "metadata": {},
   "outputs": [
    {
     "name": "stdout",
     "output_type": "stream",
     "text": [
      "Downloading file...\n"
     ]
    },
    {
     "name": "stderr",
     "output_type": "stream",
     "text": [
      "Downloading...\n",
      "From (original): https://drive.google.com/uc?id=1ZAYkCRI9vf67OvggoOYl7k22S7fp8Dq9\n",
      "From (redirected): https://drive.google.com/uc?id=1ZAYkCRI9vf67OvggoOYl7k22S7fp8Dq9&confirm=t&uuid=5e5333a3-a7a4-4b28-8aa7-4b0baffb0621\n",
      "To: e:\\LogicInsights\\data\\downloaded_file\n",
      "100%|██████████| 1.17G/1.17G [05:06<00:00, 3.83MB/s]\n"
     ]
    },
    {
     "name": "stdout",
     "output_type": "stream",
     "text": [
      "File extracted successfully.\n",
      "Renaming folders in data/Datasets...\n",
      "Renamed 'archive' to '1'\n",
      "Renamed 'CICIoT2023' to '2'\n",
      "Renamed 'CSV-01-12' to '3'\n",
      "Renamed 'GeneratedLabelledFlows (1)' to '4'\n",
      "Renamed 'OneDrive_1_7-17-2024' to '5'\n",
      "Renamed 5 folders.\n"
     ]
    }
   ],
   "source": [
    "import gdown\n",
    "import os\n",
    "import py7zr\n",
    "import pandas as pd\n",
    "from tqdm import tqdm\n",
    "\n",
    "def download_extract_and_process(file_id, output_dir):\n",
    "    \"\"\"\n",
    "    Download a file from Google Drive, extract it if it's an archive,\n",
    "    and process CSV files in the extracted directory.\n",
    "    \"\"\"\n",
    "    os.makedirs(output_dir, exist_ok=True)\n",
    "    url = f\"https://drive.google.com/uc?id={file_id}\"\n",
    "    output_file = os.path.join(output_dir, \"downloaded_file\")\n",
    "    \n",
    "    print(f\"Downloading file...\")\n",
    "    try:\n",
    "        gdown.download(url, output_file, quiet=False)\n",
    "    except Exception as e:\n",
    "        print(f\"Error downloading file: {e}\")\n",
    "        return None\n",
    "\n",
    "    # Attempt to extract if it's an archive\n",
    "    try:\n",
    "        with py7zr.SevenZipFile(output_file, mode='r') as z:\n",
    "            z.extractall(path=output_dir)\n",
    "        print(f\"File extracted successfully.\")\n",
    "        os.remove(output_file)  # Remove the archive file after extraction\n",
    "    except Exception as e:\n",
    "        print(f\"Extraction failed or file is not an archive: {e}\")\n",
    "        print(\"Will process the file directly.\")\n",
    "    rename_folders(output_dir + \"/Datasets\")\n",
    "\n",
    "def rename_folders(base_dir):\n",
    "    \"\"\"\n",
    "    Rename folders in the base directory to sequential numbers.\n",
    "    \"\"\"\n",
    "    folders = [f for f in os.listdir(base_dir) if os.path.isdir(os.path.join(base_dir, f))]\n",
    "    \n",
    "    print(f\"Renaming folders in {base_dir}...\")\n",
    "    for i, folder in enumerate(folders, start=1):\n",
    "        old_path = os.path.join(base_dir, folder)\n",
    "        new_path = os.path.join(base_dir, str(i))\n",
    "        os.rename(old_path, new_path)\n",
    "        print(f\"Renamed '{folder}' to '{i}'\")\n",
    "    \n",
    "    print(f\"Renamed {len(folders)} folders.\")\n",
    "\n",
    "# Example usage\n",
    "file_id = \"1ZAYkCRI9vf67OvggoOYl7k22S7fp8Dq9\"\n",
    "output_dir = \"data\"\n",
    "\n",
    "# Download and extract (if needed)\n",
    "download_extract_and_process(file_id, output_dir)\n",
    "\n",
    "# Rename folders\n"
   ]
  }
 ],
 "metadata": {
  "kernelspec": {
   "display_name": "Python 3",
   "language": "python",
   "name": "python3"
  },
  "language_info": {
   "codemirror_mode": {
    "name": "ipython",
    "version": 3
   },
   "file_extension": ".py",
   "mimetype": "text/x-python",
   "name": "python",
   "nbconvert_exporter": "python",
   "pygments_lexer": "ipython3",
   "version": "3.11.3"
  }
 },
 "nbformat": 4,
 "nbformat_minor": 2
}
