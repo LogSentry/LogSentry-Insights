{
 "cells": [
  {
   "cell_type": "code",
   "execution_count": 6,
   "metadata": {},
   "outputs": [
    {
     "ename": "IndentationError",
     "evalue": "expected an indented block after 'for' statement on line 47 (2187423222.py, line 49)",
     "output_type": "error",
     "traceback": [
      "\u001b[1;36m  Cell \u001b[1;32mIn[6], line 49\u001b[1;36m\u001b[0m\n\u001b[1;33m    def sigmoid_derivitive(self, prediction):\u001b[0m\n\u001b[1;37m    ^\u001b[0m\n\u001b[1;31mIndentationError\u001b[0m\u001b[1;31m:\u001b[0m expected an indented block after 'for' statement on line 47\n"
     ]
    }
   ],
   "source": [
    "\n",
    "import numpy as np\n",
    "class Perceptron:\n",
    "    def __init__(self, number_of_inputs, learning_rate = 0.01):\n",
    "        self.weights = np.random.rand(number_of_inputs)\n",
    "        self.bias = np.random.rand()\n",
    "        self.learning_rate = learning_rate\n",
    "        \n",
    "    \n",
    "    def forward(self, input):\n",
    "        weightedSum = np.dot(input, self.weights) + self.bias\n",
    "        return self.sigmoid(weightedSum)\n",
    "    \n",
    "    def sigmoid(self, weightedSum):\n",
    "        return 1/(1 + np.exp(-weightedSum))\n",
    "    \n",
    "    def train(self, input, output):\n",
    "        prediction = self.forward(input)\n",
    "        error = prediction - output\n",
    "        self.weights -= error * self.learning_rate * input\n",
    "        self.bias -= error * self.learning_rate\n",
    "\n",
    "\n",
    "class PerceptronLayer:\n",
    "    def __init__(self, number_of_inputs, number_of_outputs, learning_rate = 0.01):\n",
    "        self.perceptrons = []\n",
    "        self.number_of_inputs = number_of_inputs\n",
    "        self.learning_rate = learning_rate\n",
    "        self.number_of_outputs = number_of_outputs\n",
    "\n",
    "    def add_layer(self, num_of_neurons):\n",
    "        for i in range(num_of_neurons + 1):\n",
    "            neuron = Perceptron(self.number_of_inputs)\n",
    "            self.perceptrons.append(neuron)\n",
    "            print(\"Layer added!!\")\n",
    "        \n",
    "    def forward(self, input):\n",
    "        self.activated_perceptron_outputs = []\n",
    "        mean_perceptron_output = []\n",
    "        for perceptron in self.perceptrons:\n",
    "            for row in input:\n",
    "                activated_value = perceptron.forward(row)\n",
    "                self.activated_perceptron_outputs.append(activated_value)\n",
    "            mean_perceptron_output.append(np.mean(self.activated_perceptron_outputs)) # shape (num of perseptrons,)\n",
    "        return mean_perceptron_output\n",
    "\n",
    "    def train(self, inputs, outputs):\n",
    "        \n",
    "        for prediction, actual_output in zip(self.forward(input), outputs):\n",
    "            error = actual_output - prediction\n",
    "\n",
    "\n",
    "    def sigmoid_derivitive(self, prediction):\n",
    "        return self.sigmoid(prediction) / (1 - self.sigmoid(prediction))\n",
    "    \n",
    "    def sigmoid(self, weightedSum):\n",
    "        return 1/(1 + np.exp(-weightedSum))"
   ]
  },
  {
   "cell_type": "code",
   "execution_count": 5,
   "metadata": {},
   "outputs": [
    {
     "name": "stdout",
     "output_type": "stream",
     "text": [
      "Layer added!!\n",
      "Layer added!!\n",
      "Layer added!!\n",
      "Layer added!!\n",
      "Layer added!!\n",
      "[0.6442622043418538]\n",
      "[0.6442622043418538, 0.6712158529984504]\n",
      "[0.6442622043418538, 0.6712158529984504, 0.6690928675448092]\n",
      "[0.6442622043418538, 0.6712158529984504, 0.6690928675448092, 0.6897104494931747]\n",
      "Average outputs after training: [0.6442622043418538, 0.6712158529984504, 0.6690928675448092, 0.6897104494931747]\n"
     ]
    }
   ],
   "source": [
    "import numpy as np\n",
    "\n",
    "# Assuming your Perceptron and PerceptronLayer classes are defined as in your original code\n",
    "\n",
    "# Create a dataset (XOR problem as an example)\n",
    "inputs = np.array([[0, 0], [0, 1], [1, 0], [1, 1]])\n",
    "outputs = np.array([[0], [1], [1], [0]])\n",
    "\n",
    "# Initialize the PerceptronLayer\n",
    "layer = PerceptronLayer(number_of_inputs=2, number_of_outputs=1, learning_rate=0.1)\n",
    "\n",
    "# Add neurons to the layer\n",
    "layer.add_layer(num_of_neurons=4)  # Adding 5 neurons (4 + 1 as per your implementation)\n",
    "\n",
    "# Train the layer once\n",
    "avg_outputs = layer.train(inputs, outputs)\n",
    "print(f\"Average outputs after training: {avg_outputs}\")\n",
    "\n",
    "# # Test the trained layer\n",
    "# print(\"\\nTesting the trained layer:\")\n",
    "# for input_row in inputs:\n",
    "#     predictions = layer.forward(input_row)\n",
    "#     print(f\"Input: {input_row}, Predictions: {predictions}\")\n"
   ]
  },
  {
   "cell_type": "code",
   "execution_count": 78,
   "metadata": {},
   "outputs": [
    {
     "name": "stdout",
     "output_type": "stream",
     "text": [
      "Layer added!!\n",
      "Layer added!!\n",
      "Layer added!!\n",
      "Testing forward pass:\n",
      "[0.6856699248137249, 0.6318041261645603, 0.8116337700678515, 0.7695616534230739, 0.759571559437262, 0.8616605217454668, 0.616065397693197, 0.6358574844112285, 0.7130404484702811]\n"
     ]
    }
   ],
   "source": [
    "import numpy as np\n",
    "\n",
    "\n",
    "\n",
    "# Test the PerceptronLayer\n",
    "if __name__ == \"__main__\":\n",
    "    # Create a PerceptronLayer with 3 inputs and 2 outputs\n",
    "    layer = PerceptronLayer(number_of_inputs=3, number_of_outputs=2)\n",
    "\n",
    "    # Add a layer with 2 neurons\n",
    "    layer.add_layer(2)\n",
    "\n",
    "    # Create some test input data\n",
    "    test_input = np.array([\n",
    "        [0, 0, 1],\n",
    "        [0, 1, 0],\n",
    "        [1, 1, 0]\n",
    "    ])\n",
    "\n",
    "    # Test the forward pass\n",
    "    print(\"Testing forward pass:\")\n",
    "    layer.forward(test_input)"
   ]
  },
  {
   "cell_type": "code",
   "execution_count": 51,
   "metadata": {},
   "outputs": [],
   "source": [
    "# # Create AND gate training data\n",
    "# X = np.array([[0, 0], [0, 1], [1, 0], [1, 1]])\n",
    "# y = np.array([0, 0, 0, 0])\n",
    "# epochs = 1000\n",
    "\n",
    "# # Create and train the neuron\n",
    "# model = Nuron(len(X[0]), learning_rate=0.1)\n",
    "\n",
    "# for j in range(epochs):\n",
    "#     for i in range(len(X)):\n",
    "#         model.train(X[i], y[i])\n",
    "\n",
    "# # Test the model\n",
    "# print(\"\\nTesting AND gate:\")\n",
    "# for i in range(len(X)):\n",
    "#     prediction = model.forward(X[i])\n",
    "#     print(f\"Input: {X[i]}, Predicted: {prediction}, Actual: {y[i]}\")\n",
    "\n",
    "# print(f\"\\nFinal weights: {model.weights}\")\n",
    "# print(f\"Final bias: {model.bias}\")"
   ]
  }
 ],
 "metadata": {
  "kernelspec": {
   "display_name": "Python 3",
   "language": "python",
   "name": "python3"
  },
  "language_info": {
   "codemirror_mode": {
    "name": "ipython",
    "version": 3
   },
   "file_extension": ".py",
   "mimetype": "text/x-python",
   "name": "python",
   "nbconvert_exporter": "python",
   "pygments_lexer": "ipython3",
   "version": "3.11.3"
  }
 },
 "nbformat": 4,
 "nbformat_minor": 2
}
