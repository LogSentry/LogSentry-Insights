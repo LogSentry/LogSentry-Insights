{
 "cells": [
  {
   "cell_type": "code",
   "execution_count": 44,
   "metadata": {},
   "outputs": [],
   "source": [
    "\n",
    "import numpy as np\n",
    "class Perceptron:\n",
    "    def __init__(self, number_of_inputs, learning_rate = 0.01):\n",
    "        self.weights = np.random.rand(number_of_inputs)\n",
    "        self.bias = np.random.rand()\n",
    "        self.learning_rate = learning_rate\n",
    "    \n",
    "    def forward(self, input):\n",
    "        weightedSum = np.dot(input, self.weights) + self.bias\n",
    "        return self.sigmoid(weightedSum)\n",
    "    \n",
    "    def sigmoid(self, weightedSum):\n",
    "        return 1/(1 + np.exp(-weightedSum))\n",
    "    \n",
    "    def train(self, input, output):\n",
    "        prediction = self.forward(input)\n",
    "        error = prediction - output\n",
    "        self.weights -= error * self.learning_rate * input\n",
    "        self.bias -= error * self.learning_rate\n",
    "\n",
    "\n",
    "class PerceptronLayer:\n",
    "    def __init__(self, number_of_inputs, number_of_outputs, learning_rate = 0.01):\n",
    "        self.perceptrons = []\n",
    "        self.number_of_inputs = number_of_inputs\n",
    "        self.learning_rate = learning_rate\n",
    "        self.number_of_outputs = number_of_outputs\n",
    "\n",
    "    def add_layer(self, num_of_neurons):\n",
    "        for i in range(num_of_neurons):\n",
    "            neuron = Perceptron(self.number_of_inputs)\n",
    "            self.perceptrons.append(neuron)\n",
    "            return print(\"Layer added!!\")\n",
    "    def forward(self, input):\n",
    "        self.activated_perceptron_outputs = []\n",
    "        for row in range(len(input)):\n",
    "            for perceptron in range(len(self.perceptrons)):\n",
    "                perceptron = self.perceptrons[perceptron]\n",
    "                activated_value = perceptron.forward(input[row])\n",
    "                self.activated_perceptron_outputs.append(activated_value)\n",
    "        print(self.activated_perceptron_outputs)\n",
    "\n",
    "    \n",
    "\n",
    "        \n",
    "    \n",
    "\n",
    "\n",
    "\n"
   ]
  },
  {
   "cell_type": "code",
   "execution_count": 48,
   "metadata": {},
   "outputs": [
    {
     "name": "stdout",
     "output_type": "stream",
     "text": [
      "\n",
      "Testing AND gate:\n",
      "Input: [0 0], Predicted: 0.006184086171811949, Actual: 0\n",
      "Input: [0 1], Predicted: 0.0014339834888544454, Actual: 0\n",
      "Input: [1 0], Predicted: 0.0013337985813567372, Actual: 0\n",
      "Input: [1 1], Predicted: 0.00030812989963345815, Actual: 0\n",
      "\n",
      "Final weights: [-1.5388169  -1.46629129]\n",
      "Final bias: -5.079572746321737\n"
     ]
    }
   ],
   "source": [
    "# Create AND gate training data\n",
    "X = np.array([[0, 0], [0, 1], [1, 0], [1, 1]])\n",
    "y = np.array([0, 0, 0, 0])\n",
    "epochs = 1000\n",
    "\n",
    "# Create and train the neuron\n",
    "model = Nuron(len(X[0]), learning_rate=0.1)\n",
    "\n",
    "for j in range(epochs):\n",
    "    for i in range(len(X)):\n",
    "        model.train(X[i], y[i])\n",
    "\n",
    "# Test the model\n",
    "print(\"\\nTesting AND gate:\")\n",
    "for i in range(len(X)):\n",
    "    prediction = model.forward(X[i])\n",
    "    print(f\"Input: {X[i]}, Predicted: {prediction}, Actual: {y[i]}\")\n",
    "\n",
    "print(f\"\\nFinal weights: {model.weights}\")\n",
    "print(f\"Final bias: {model.bias}\")"
   ]
  }
 ],
 "metadata": {
  "kernelspec": {
   "display_name": "Python 3",
   "language": "python",
   "name": "python3"
  },
  "language_info": {
   "codemirror_mode": {
    "name": "ipython",
    "version": 3
   },
   "file_extension": ".py",
   "mimetype": "text/x-python",
   "name": "python",
   "nbconvert_exporter": "python",
   "pygments_lexer": "ipython3",
   "version": "3.11.3"
  }
 },
 "nbformat": 4,
 "nbformat_minor": 2
}
