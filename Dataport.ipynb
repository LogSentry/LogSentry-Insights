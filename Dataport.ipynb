{
 "cells": [
  {
   "cell_type": "code",
   "execution_count": 7,
   "metadata": {},
   "outputs": [],
   "source": [
    "def gzExtract(file):\n",
    "    import gzip\n",
    "    import shutil\n",
    "    with gzip.open(file, 'rb') as f_in:\n",
    "        with open(file[:-3], 'wb') as f_out:\n",
    "            shutil.copyfileobj(f_in, f_out)\n",
    "    return file[:-3]"
   ]
  },
  {
   "cell_type": "code",
   "execution_count": null,
   "metadata": {},
   "outputs": [],
   "source": [
    "# create a funtion to downlaod all datsets from the given urls list and save them in ./Dataset directory\n",
    "import os\n",
    "import requests\n",
    "import pandas as pd\n",
    "import numpy as np\n",
    "import gzip \n",
    "import shutil\n",
    "\n",
    "def download_datasets():   \n",
    "    # CICIDS2017 Dataset\n",
    "    !kaggle datasets download -d chethuhn/network-intrusion-dataset -- unzip -o -d ./Dataset/CICIDS2017\n",
    "    #UNSW-NB15 Dataset\n",
    "    !kaggle datasets download -d mrwellsdavid/unsw-nb15 -- unzip -o -d ./Dataset/UNSW-NB15\n",
    "    #DARPA Intrusion Detection Evaluation Dataset, dirct download link, days 1,2,3\n",
    "    url = 'https://archive.ll.mit.edu/ideval/data/1999/training/week2/monday/inside.tcpdump.gz'\n",
    "    r = requests.get(url, allow_redirects=True)\n",
    "    open('./Dataset/DARPA/inside_1.tcpdump.gz', 'wb').write(r.content)\n",
    "    gzExtract(\"./Dataset/DARPA/inside_1.tcpdump.gz\")\n",
    "\n",
    "    url = 'https://archive.ll.mit.edu/ideval/data/1999/training/week2/tuesday/inside.tcpdump.gz'\n",
    "    r = requests.get(url, allow_redirects=True)\n",
    "    open('./Dataset/DARPA/inside_2.tcpdump.gz', 'wb').write(r.content)\n",
    "    gzExtract(\"./Dataset/DARPA/inside_2.tcpdump.gz\")\n",
    "\n",
    "    url = 'https://archive.ll.mit.edu/ideval/data/1999/training/week2/wednesday/inside.tcpdump.gz'\n",
    "    r = requests.get(url, allow_redirects=True)\n",
    "    open('./Dataset/DARPA/inside_3.tcpdump.gz', 'wb').write(r.content)\n",
    "    gzExtract(\"./Dataset/DARPA/inside_3.tcpdump.gz\")\n",
    "    #--------------------------------------------------------------------------------------#\n",
    "    \n",
    "\n",
    "\n",
    "\n",
    "    \n"
   ]
  },
  {
   "cell_type": "code",
   "execution_count": 6,
   "metadata": {},
   "outputs": [],
   "source": [
    "import gzip \n",
    "import shutil https://archive.ll.mit.edu/ideval/data/1999/training/week2/tuesday/inside.tcpdump.gz https://archive.ll.mit.edu/ideval/data/1999/training/week2/monday/inside.tcpdump.gz\n",
    "# extract the .gz file\n",
    "with gzip.open('inside.tcpdump.gz', 'rb') as f_in:\n",
    "    with open('instde.tcpdump', 'wb') as f_out:\n",
    "        shutil.copyfileobj(f_in, f_out)"
   ]
  },
  {
   "cell_type": "code",
   "execution_count": 4,
   "metadata": {},
   "outputs": [
    {
     "name": "stdout",
     "output_type": "stream",
     "text": [
      "Note: you may need to restart the kernel to use updated packages.\n"
     ]
    },
    {
     "name": "stderr",
     "output_type": "stream",
     "text": [
      "ERROR: Could not find a version that satisfies the requirement tar (from versions: none)\n",
      "ERROR: No matching distribution found for tar\n"
     ]
    }
   ],
   "source": [
    "%pip install tar"
   ]
  }
 ],
 "metadata": {
  "kernelspec": {
   "display_name": "Python 3",
   "language": "python",
   "name": "python3"
  },
  "language_info": {
   "codemirror_mode": {
    "name": "ipython",
    "version": 3
   },
   "file_extension": ".py",
   "mimetype": "text/x-python",
   "name": "python",
   "nbconvert_exporter": "python",
   "pygments_lexer": "ipython3",
   "version": "3.11.3"
  }
 },
 "nbformat": 4,
 "nbformat_minor": 2
}
