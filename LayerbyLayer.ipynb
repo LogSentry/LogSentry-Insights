{
  "cells": [
    {
      "cell_type": "markdown",
      "metadata": {
        "id": "2uR3rx_EPi6E"
      },
      "source": [
        "# Layer by Layer approach for bulding a MLP (Multi-Layer Perseptron) Model"
      ]
    },
    {
      "cell_type": "code",
      "execution_count": 21,
      "metadata": {
        "id": "aqb96IjYPi6H"
      },
      "outputs": [],
      "source": [
        "import numpy as np\n",
        "from tqdm import tqdm\n",
        "\n",
        "class Layer:\n",
        "    def __init__(self):\n",
        "        self.input = None\n",
        "        self.output = None\n",
        "\n",
        "    def forward(self, input):\n",
        "        pass\n",
        "\n",
        "    def backward(self, output_gradient, learning_rate):\n",
        "        pass\n",
        "\n",
        "class Dense(Layer):\n",
        "    def __init__(self, output_size):\n",
        "        self.output_size = output_size\n",
        "        self.weights = None\n",
        "        self.bias = None\n",
        "\n",
        "    def initialize(self, input_size):\n",
        "        self.weights = np.random.randn(self.output_size, input_size) * 0.01  # Small initialization\n",
        "        self.bias = np.zeros((self.output_size, 1))\n",
        "\n",
        "    def forward(self, input):\n",
        "        self.input = input\n",
        "        if self.weights is None:\n",
        "            self.initialize(input.shape[0])\n",
        "        self.output = np.dot(self.weights, self.input) + self.bias\n",
        "        return self.output\n",
        "\n",
        "    def backward(self, output_gradient, learning_rate):\n",
        "        weights_gradient = np.dot(output_gradient, self.input.T)\n",
        "        self.weights -= learning_rate * weights_gradient\n",
        "        self.bias -= learning_rate * output_gradient\n",
        "        return np.dot(self.weights.T, output_gradient)\n",
        "\n",
        "class Activation(Layer):\n",
        "    def __init__(self, activation, activation_prime):\n",
        "        self.activation = activation\n",
        "        self.activation_prime = activation_prime\n",
        "\n",
        "    def forward(self, input):\n",
        "        self.input = input\n",
        "        return self.activation(self.input)\n",
        "\n",
        "    def backward(self, output_gradient, learning_rate):\n",
        "        return np.multiply(output_gradient, self.activation_prime(self.input))\n",
        "\n",
        "class Sigmoid(Activation):\n",
        "    def __init__(self):\n",
        "        def sigmoid(x):\n",
        "            return 1 / (1 + np.exp(-x))\n",
        "        def sigmoid_prime(x):\n",
        "            s = sigmoid(x)\n",
        "            return s * (1 - s)\n",
        "        super().__init__(sigmoid, sigmoid_prime)\n",
        "\n",
        "class ReLU(Activation):\n",
        "    def __init__(self):\n",
        "        def ReLU(x):\n",
        "            return np.maximum(0, x)\n",
        "        def ReLU_prime(x):\n",
        "            return np.where(x > 0, 1, 0)\n",
        "        super().__init__(ReLU, ReLU_prime)\n",
        "\n",
        "class Loss:\n",
        "    @staticmethod\n",
        "    def mse(y_true, y_pred):\n",
        "        return np.mean(np.power(y_true - y_pred, 2))\n",
        "\n",
        "    @staticmethod\n",
        "    def mse_derivative(y_true, y_pred):\n",
        "        return 2 * (y_pred - y_true) / np.size(y_true)\n",
        "\n",
        "class CometNet:\n",
        "    def __init__(self, layers, input_size):\n",
        "        self.layers = layers\n",
        "        self.input_size = input_size\n",
        "\n",
        "    def predict(self, input):\n",
        "        output = input\n",
        "        for layer in self.layers:\n",
        "            output = layer.forward(output)\n",
        "        return output\n",
        "\n",
        "    def train(self, X, y, epochs=10, learning_rate=0.01):  # Reduced learning rate\n",
        "        for epoch in range(epochs):\n",
        "            error = 0\n",
        "            for x, y_true in tqdm(zip(X, y), total=len(X), desc=f\"Epoch {epoch + 1}/{epochs}\"):\n",
        "                x = x.reshape(-1, 1)\n",
        "                y_true = np.array([[y_true]], dtype=float)\n",
        "                \n",
        "                output = self.predict(x)\n",
        "                error += Loss.mse(y_true, output)\n",
        "                \n",
        "                grad = Loss.mse_derivative(y_true, output)\n",
        "                for layer in reversed(self.layers):\n",
        "                    grad = layer.backward(grad, learning_rate)\n",
        "            \n",
        "            error /= len(X)\n",
        "            print(f\"Epoch {epoch + 1}/{epochs} - Error: {error:.6f}\")\n"
      ]
    },
    {
      "cell_type": "code",
      "execution_count": 29,
      "metadata": {
        "id": "cyj43EH8Pi6J"
      },
      "outputs": [],
      "source": [
        "import pandas as pd\n",
        "import numpy as np\n",
        "from sklearn.preprocessing import LabelEncoder, MinMaxScaler\n",
        "from sklearn.model_selection import train_test_split\n",
        "from sklearn.impute import SimpleImputer\n",
        "from sklearn.utils import resample\n",
        "\n",
        "class DataPreprocessor:\n",
        "    \"\"\"\n",
        "    A class for preprocessing network traffic data.\n",
        "    \"\"\"\n",
        "\n",
        "    def __init__(self, datetime_col='Timestamp', label_col='Label', random_state=42):\n",
        "        \"\"\"\n",
        "        Initialize the DataPreprocessor.\n",
        "\n",
        "        Args:\n",
        "            datetime_col (str): Name of the datetime column.\n",
        "            label_col (str): Name of the label column.\n",
        "            random_state (int): Random seed for reproducibility.\n",
        "        \"\"\"\n",
        "        self.datetime_col = datetime_col\n",
        "        self.label_col = label_col\n",
        "        self.random_state = random_state\n",
        "        self.label_encoder = LabelEncoder()\n",
        "        self.scaler = MinMaxScaler()\n",
        "        self.imputer = SimpleImputer(strategy='mean')\n",
        "\n",
        "    def read_and_combine_data(self, file_paths):\n",
        "        \"\"\"\n",
        "        Read CSV files and combine them into a single DataFrame.\n",
        "\n",
        "        Args:\n",
        "            file_paths (list): List of paths to the CSV files.\n",
        "\n",
        "        Returns:\n",
        "            pd.DataFrame: Combined DataFrame.\n",
        "        \"\"\"\n",
        "        df_list = [pd.read_csv(file_path, encoding='latin1') for file_path in file_paths]\n",
        "        df = pd.concat(df_list).reset_index(drop=True)\n",
        "        df.columns = df.columns.str.strip().str.replace(' ', '_')\n",
        "        return df\n",
        "\n",
        "    def preprocess_data(self, df):\n",
        "        \"\"\"\n",
        "        Preprocess the data by encoding labels, handling timestamps, and dropping unnecessary columns.\n",
        "\n",
        "        Args:\n",
        "            df (pd.DataFrame): Input DataFrame.\n",
        "\n",
        "        Returns:\n",
        "            pd.DataFrame: Preprocessed DataFrame.\n",
        "        \"\"\"\n",
        "        # Encode labels\n",
        "        df[self.label_col] = self.label_encoder.fit_transform(df[self.label_col])\n",
        "        df[self.label_col] = df[self.label_col].apply(lambda x: 0 if x == 0 else 1)\n",
        "\n",
        "        # Handle timestamp\n",
        "        if self.datetime_col in df.columns:\n",
        "            df[self.datetime_col] = pd.to_datetime(df[self.datetime_col], errors='coerce')\n",
        "            df.dropna(subset=[self.datetime_col], inplace=True)\n",
        "            df['minutes_from_midnight'] = (df[self.datetime_col].dt.hour * 60 +\n",
        "                                           df[self.datetime_col].dt.minute +\n",
        "                                           df[self.datetime_col].dt.second / 60 +\n",
        "                                           df[self.datetime_col].dt.microsecond / 60000000)\n",
        "            df.drop(columns=[self.datetime_col], inplace=True)\n",
        "\n",
        "        # Drop unnecessary columns\n",
        "        columns_to_drop = ['Flow_ID', 'Source_IP', 'Destination_IP']\n",
        "        df.drop(columns=[col for col in columns_to_drop if col in df.columns], inplace=True)\n",
        "\n",
        "        return df\n",
        "\n",
        "    def resample_data(self, df, proportions):\n",
        "        \"\"\"\n",
        "        Resample the data to achieve desired class proportions.\n",
        "\n",
        "        Args:\n",
        "            df (pd.DataFrame): Input DataFrame.\n",
        "            proportions (list): Desired proportions for each label.\n",
        "\n",
        "        Returns:\n",
        "            pd.DataFrame: Resampled DataFrame.\n",
        "        \"\"\"\n",
        "        df_majority = df[df[self.label_col] == 0]\n",
        "        df_minority = df[df[self.label_col] == 1]\n",
        "\n",
        "        n_samples_majority = int(len(df) * proportions[0])\n",
        "        n_samples_minority = int(len(df) * proportions[1])\n",
        "\n",
        "        df_majority_resampled = resample(df_majority, replace=False, n_samples=n_samples_majority, random_state=self.random_state)\n",
        "        df_minority_resampled = resample(df_minority, replace=True, n_samples=n_samples_minority, random_state=self.random_state)\n",
        "\n",
        "        return pd.concat([df_majority_resampled, df_minority_resampled])\n",
        "\n",
        "    def select_features(self, df):\n",
        "        \"\"\"\n",
        "        Select features based on a predefined list.\n",
        "\n",
        "        Args:\n",
        "            df (pd.DataFrame): Input DataFrame.\n",
        "\n",
        "        Returns:\n",
        "            pd.DataFrame: DataFrame with selected features.\n",
        "        \"\"\"\n",
        "        feature_list = [\n",
        "                'Source_Port', 'Destination_Port', 'Protocol', 'Fwd_Packet_Length_Min',\n",
        "                'Bwd_Packet_Length_Max', 'Bwd_Packet_Length_Min', 'Bwd_Packet_Length_Mean',\n",
        "                'Bwd_Packet_Length_Std', 'Flow_IAT_Std', 'Flow_IAT_Max', 'Fwd_IAT_Std',\n",
        "                'Fwd_IAT_Max', 'Min_Packet_Length', 'Max_Packet_Length',\n",
        "                'Packet_Length_Mean', 'Packet_Length_Std', 'Packet_Length_Variance',\n",
        "                'Average_Packet_Size',\n",
        "                'Idle_Mean', 'Idle_Std', 'Idle_Max',\n",
        "                'Idle_Min', 'Label', \"minutes_from_midnight\"\n",
        "        ]\n",
        "\n",
        "        return df[feature_list]\n",
        "\n",
        "    def scale_and_impute(self, X_train, X_test):\n",
        "        \"\"\"\n",
        "        Scale features and impute missing values.\n",
        "\n",
        "        Args:\n",
        "            X_train (np.array): Training feature set.\n",
        "            X_test (np.array): Test feature set.\n",
        "\n",
        "        Returns:\n",
        "            tuple: Scaled and imputed training and test sets.\n",
        "        \"\"\"\n",
        "        X_train_scaled = self.scaler.fit_transform(X_train)\n",
        "        X_test_scaled = self.scaler.transform(X_test)\n",
        "\n",
        "        X_train_imputed = self.imputer.fit_transform(X_train_scaled)\n",
        "        X_test_imputed = self.imputer.transform(X_test_scaled)\n",
        "\n",
        "        return X_train_imputed, X_test_imputed\n",
        "\n",
        "    def process_data(self, file_paths, proportions, verbose=False):\n",
        "        \"\"\"\n",
        "        Process the data through all preprocessing steps.\n",
        "\n",
        "        Args:\n",
        "            file_paths (list): List of paths to the CSV files.\n",
        "            proportions (list): Desired proportions for each label.\n",
        "            verbose (bool): Whether to print additional information.\n",
        "\n",
        "        Returns:\n",
        "            tuple: Processed training and test sets (X_train, X_test, y_train, y_test).\n",
        "        \"\"\"\n",
        "        df = self.read_and_combine_data(file_paths)\n",
        "        df = self.preprocess_data(df)\n",
        "        df_resampled = self.resample_data(df, proportions)\n",
        "        df_filtered = self.select_features(df_resampled)\n",
        "\n",
        "        y = df_filtered[self.label_col]\n",
        "        X = df_filtered.drop(columns=[self.label_col])\n",
        "\n",
        "        X_train, X_test, y_train, y_test = train_test_split(X, y, test_size=0.2, random_state=self.random_state)\n",
        "        X_train_imputed, X_test_imputed = self.scale_and_impute(X_train, X_test)\n",
        "\n",
        "        if verbose:\n",
        "            print(\"Final shapes:\")\n",
        "            print(\"X_train shape:\", X_train_imputed.shape)\n",
        "            print(\"X_test shape:\", X_test_imputed.shape)\n",
        "            print(\"y_train shape:\", y_train.shape)\n",
        "            print(\"y_test shape:\", y_test.shape)\n",
        "\n",
        "        return X_train_imputed, X_test_imputed, y_train, y_test"
      ]
    },
    {
      "cell_type": "code",
      "execution_count": 30,
      "metadata": {
        "colab": {
          "base_uri": "https://localhost:8080/"
        },
        "id": "lr5jSMpuPi6K",
        "outputId": "6e79845c-06ad-4e43-c9b3-08135b2144ab"
      },
      "outputs": [
        {
          "name": "stdout",
          "output_type": "stream",
          "text": [
            "Processing training data:\n"
          ]
        },
        {
          "name": "stderr",
          "output_type": "stream",
          "text": [
            "C:\\Users\\kani2\\AppData\\Local\\Temp\\ipykernel_11484\\1611579076.py:39: DtypeWarning: Columns (0,1,3,6,84) have mixed types. Specify dtype option on import or set low_memory=False.\n",
            "  df_list = [pd.read_csv(file_path, encoding='latin1') for file_path in file_paths]\n"
          ]
        },
        {
          "name": "stdout",
          "output_type": "stream",
          "text": [
            "\n",
            "Processing test data:\n",
            "Final shapes:\n",
            "X_train shape: (554161, 23)\n",
            "X_test shape: (138541, 23)\n",
            "y_train shape: (554161,)\n",
            "y_test shape: (138541,)\n"
          ]
        }
      ],
      "source": [
        "# Define file paths\n",
        "train_file_paths = [\n",
        "    r'GeneratedLabelledFlows (1)\\Friday-WorkingHours-Afternoon-DDos.pcap_ISCX.csv',\n",
        "    r'GeneratedLabelledFlows (1)\\Monday-WorkingHours.pcap_ISCX.csv',\n",
        "    r'GeneratedLabelledFlows (1)\\Thursday-WorkingHours-Morning-WebAttacks.pcap_ISCX.csv'\n",
        "]\n",
        "test_file_paths = [\n",
        "    r'GeneratedLabelledFlows (1)\\Wednesday-workingHours.pcap_ISCX.csv'\n",
        "]\n",
        "\n",
        "# Define desired proportions for each label\n",
        "proportions = [0.6, 0.4]\n",
        "\n",
        "# Initialize DataPreprocessor\n",
        "preprocessor = DataPreprocessor(datetime_col='Timestamp', label_col='Label', random_state=42)\n",
        "\n",
        "# Process training data\n",
        "print(\"Processing training data:\")\n",
        "X_train, X_test, y_train, y_test = preprocessor.process_data(train_file_paths, proportions, verbose=False)\n",
        "\n",
        "# Process test data\n",
        "print(\"\\nProcessing test data:\")\n",
        "X_train_test, X_test_test, y_train_test, y_test_test = preprocessor.process_data(test_file_paths, proportions, verbose=True)"
      ]
    },
    {
      "cell_type": "code",
      "execution_count": 25,
      "metadata": {
        "colab": {
          "base_uri": "https://localhost:8080/"
        },
        "id": "FXTaBf21Pi6L",
        "outputId": "759b4197-6f32-49a7-9d15-c6386a2a59cb"
      },
      "outputs": [
        {
          "name": "stdout",
          "output_type": "stream",
          "text": [
            "0\n"
          ]
        }
      ],
      "source": [
        "# see if x_train has nan values\n",
        "print(np.isnan(y_train).sum())"
      ]
    },
    {
      "cell_type": "code",
      "execution_count": 32,
      "metadata": {
        "colab": {
          "base_uri": "https://localhost:8080/",
          "height": 738
        },
        "id": "b399yGSrPi6L",
        "outputId": "90ae63d4-3d5c-488a-9721-dcedffff0bb2"
      },
      "outputs": [
        {
          "name": "stderr",
          "output_type": "stream",
          "text": [
            "Epoch 1/120: 100%|██████████| 316888/316888 [00:45<00:00, 6942.15it/s] \n"
          ]
        },
        {
          "name": "stdout",
          "output_type": "stream",
          "text": [
            "Epoch 1/120 - Error: 0.053946\n"
          ]
        },
        {
          "name": "stderr",
          "output_type": "stream",
          "text": [
            "Epoch 2/120: 100%|██████████| 316888/316888 [00:36<00:00, 8777.61it/s]\n"
          ]
        },
        {
          "name": "stdout",
          "output_type": "stream",
          "text": [
            "Epoch 2/120 - Error: 0.024082\n"
          ]
        },
        {
          "name": "stderr",
          "output_type": "stream",
          "text": [
            "Epoch 3/120: 100%|██████████| 316888/316888 [00:55<00:00, 5680.64it/s] \n"
          ]
        },
        {
          "name": "stdout",
          "output_type": "stream",
          "text": [
            "Epoch 3/120 - Error: 0.023595\n"
          ]
        },
        {
          "name": "stderr",
          "output_type": "stream",
          "text": [
            "Epoch 4/120: 100%|██████████| 316888/316888 [00:33<00:00, 9450.75it/s] \n"
          ]
        },
        {
          "name": "stdout",
          "output_type": "stream",
          "text": [
            "Epoch 4/120 - Error: 0.029750\n"
          ]
        },
        {
          "name": "stderr",
          "output_type": "stream",
          "text": [
            "Epoch 5/120:  64%|██████▍   | 202336/316888 [00:25<00:28, 4051.16it/s]C:\\Users\\kani2\\AppData\\Local\\Temp\\ipykernel_11484\\4244579824.py:53: RuntimeWarning: overflow encountered in exp\n",
            "  return 1 / (1 + np.exp(-x))\n",
            "Epoch 5/120: 100%|██████████| 316888/316888 [00:52<00:00, 6015.02it/s]\n"
          ]
        },
        {
          "name": "stdout",
          "output_type": "stream",
          "text": [
            "Epoch 5/120 - Error: 0.083653\n"
          ]
        },
        {
          "name": "stderr",
          "output_type": "stream",
          "text": [
            "Epoch 6/120: 100%|██████████| 316888/316888 [00:37<00:00, 8391.55it/s]\n"
          ]
        },
        {
          "name": "stdout",
          "output_type": "stream",
          "text": [
            "Epoch 6/120 - Error: 0.150872\n"
          ]
        },
        {
          "name": "stderr",
          "output_type": "stream",
          "text": [
            "Epoch 7/120: 100%|██████████| 316888/316888 [00:47<00:00, 6740.03it/s]\n"
          ]
        },
        {
          "name": "stdout",
          "output_type": "stream",
          "text": [
            "Epoch 7/120 - Error: 0.153013\n"
          ]
        },
        {
          "name": "stderr",
          "output_type": "stream",
          "text": [
            "Epoch 8/120: 100%|██████████| 316888/316888 [00:45<00:00, 6942.26it/s]\n"
          ]
        },
        {
          "name": "stdout",
          "output_type": "stream",
          "text": [
            "Epoch 8/120 - Error: 0.152648\n"
          ]
        },
        {
          "name": "stderr",
          "output_type": "stream",
          "text": [
            "Epoch 9/120: 100%|██████████| 316888/316888 [00:38<00:00, 8194.87it/s]\n"
          ]
        },
        {
          "name": "stdout",
          "output_type": "stream",
          "text": [
            "Epoch 9/120 - Error: 0.153480\n"
          ]
        },
        {
          "name": "stderr",
          "output_type": "stream",
          "text": [
            "Epoch 10/120: 100%|██████████| 316888/316888 [00:59<00:00, 5362.67it/s]\n"
          ]
        },
        {
          "name": "stdout",
          "output_type": "stream",
          "text": [
            "Epoch 10/120 - Error: 0.153236\n"
          ]
        },
        {
          "name": "stderr",
          "output_type": "stream",
          "text": [
            "Epoch 11/120: 100%|██████████| 316888/316888 [00:36<00:00, 8586.62it/s]\n"
          ]
        },
        {
          "name": "stdout",
          "output_type": "stream",
          "text": [
            "Epoch 11/120 - Error: 0.152933\n"
          ]
        },
        {
          "name": "stderr",
          "output_type": "stream",
          "text": [
            "Epoch 12/120: 100%|██████████| 316888/316888 [01:00<00:00, 5279.91it/s]\n"
          ]
        },
        {
          "name": "stdout",
          "output_type": "stream",
          "text": [
            "Epoch 12/120 - Error: 0.153566\n"
          ]
        },
        {
          "name": "stderr",
          "output_type": "stream",
          "text": [
            "Epoch 13/120: 100%|██████████| 316888/316888 [00:34<00:00, 9060.45it/s]\n"
          ]
        },
        {
          "name": "stdout",
          "output_type": "stream",
          "text": [
            "Epoch 13/120 - Error: 0.153442\n"
          ]
        },
        {
          "name": "stderr",
          "output_type": "stream",
          "text": [
            "Epoch 14/120: 100%|██████████| 316888/316888 [01:01<00:00, 5120.31it/s]\n"
          ]
        },
        {
          "name": "stdout",
          "output_type": "stream",
          "text": [
            "Epoch 14/120 - Error: 0.153731\n"
          ]
        },
        {
          "name": "stderr",
          "output_type": "stream",
          "text": [
            "Epoch 15/120: 100%|██████████| 316888/316888 [01:29<00:00, 3532.31it/s]\n"
          ]
        },
        {
          "name": "stdout",
          "output_type": "stream",
          "text": [
            "Epoch 15/120 - Error: 0.153878\n"
          ]
        },
        {
          "name": "stderr",
          "output_type": "stream",
          "text": [
            "Epoch 16/120: 100%|██████████| 316888/316888 [00:36<00:00, 8785.49it/s]\n"
          ]
        },
        {
          "name": "stdout",
          "output_type": "stream",
          "text": [
            "Epoch 16/120 - Error: 0.154871\n"
          ]
        },
        {
          "name": "stderr",
          "output_type": "stream",
          "text": [
            "Epoch 17/120: 100%|██████████| 316888/316888 [00:55<00:00, 5742.08it/s]\n"
          ]
        },
        {
          "name": "stdout",
          "output_type": "stream",
          "text": [
            "Epoch 17/120 - Error: 0.154162\n"
          ]
        },
        {
          "name": "stderr",
          "output_type": "stream",
          "text": [
            "Epoch 18/120: 100%|██████████| 316888/316888 [00:36<00:00, 8754.20it/s]\n"
          ]
        },
        {
          "name": "stdout",
          "output_type": "stream",
          "text": [
            "Epoch 18/120 - Error: 0.153618\n"
          ]
        },
        {
          "name": "stderr",
          "output_type": "stream",
          "text": [
            "Epoch 19/120: 100%|██████████| 316888/316888 [00:52<00:00, 6040.32it/s]\n"
          ]
        },
        {
          "name": "stdout",
          "output_type": "stream",
          "text": [
            "Epoch 19/120 - Error: 0.153362\n"
          ]
        },
        {
          "name": "stderr",
          "output_type": "stream",
          "text": [
            "Epoch 20/120: 100%|██████████| 316888/316888 [00:42<00:00, 7394.65it/s]\n"
          ]
        },
        {
          "name": "stdout",
          "output_type": "stream",
          "text": [
            "Epoch 20/120 - Error: 0.156058\n"
          ]
        },
        {
          "name": "stderr",
          "output_type": "stream",
          "text": [
            "Epoch 21/120: 100%|██████████| 316888/316888 [02:30<00:00, 2107.85it/s]\n"
          ]
        },
        {
          "name": "stdout",
          "output_type": "stream",
          "text": [
            "Epoch 21/120 - Error: 0.154584\n"
          ]
        },
        {
          "name": "stderr",
          "output_type": "stream",
          "text": [
            "Epoch 22/120: 100%|██████████| 316888/316888 [01:50<00:00, 2869.10it/s]\n"
          ]
        },
        {
          "name": "stdout",
          "output_type": "stream",
          "text": [
            "Epoch 22/120 - Error: 0.153486\n"
          ]
        },
        {
          "name": "stderr",
          "output_type": "stream",
          "text": [
            "Epoch 23/120: 100%|██████████| 316888/316888 [01:53<00:00, 2795.67it/s]\n"
          ]
        },
        {
          "name": "stdout",
          "output_type": "stream",
          "text": [
            "Epoch 23/120 - Error: 0.154121\n"
          ]
        },
        {
          "name": "stderr",
          "output_type": "stream",
          "text": [
            "Epoch 24/120: 100%|██████████| 316888/316888 [02:19<00:00, 2264.03it/s]\n"
          ]
        },
        {
          "name": "stdout",
          "output_type": "stream",
          "text": [
            "Epoch 24/120 - Error: 0.154273\n"
          ]
        },
        {
          "name": "stderr",
          "output_type": "stream",
          "text": [
            "Epoch 25/120: 100%|██████████| 316888/316888 [02:28<00:00, 2127.88it/s]\n"
          ]
        },
        {
          "name": "stdout",
          "output_type": "stream",
          "text": [
            "Epoch 25/120 - Error: 0.154370\n"
          ]
        },
        {
          "name": "stderr",
          "output_type": "stream",
          "text": [
            "Epoch 26/120: 100%|██████████| 316888/316888 [02:10<00:00, 2427.73it/s]\n"
          ]
        },
        {
          "name": "stdout",
          "output_type": "stream",
          "text": [
            "Epoch 26/120 - Error: 0.152243\n"
          ]
        },
        {
          "name": "stderr",
          "output_type": "stream",
          "text": [
            "Epoch 27/120: 100%|██████████| 316888/316888 [02:01<00:00, 2601.35it/s]\n"
          ]
        },
        {
          "name": "stdout",
          "output_type": "stream",
          "text": [
            "Epoch 27/120 - Error: 0.153416\n"
          ]
        },
        {
          "name": "stderr",
          "output_type": "stream",
          "text": [
            "Epoch 28/120: 100%|██████████| 316888/316888 [00:53<00:00, 5942.43it/s]\n"
          ]
        },
        {
          "name": "stdout",
          "output_type": "stream",
          "text": [
            "Epoch 28/120 - Error: 0.153537\n"
          ]
        },
        {
          "name": "stderr",
          "output_type": "stream",
          "text": [
            "Epoch 29/120: 100%|██████████| 316888/316888 [01:05<00:00, 4818.11it/s]\n"
          ]
        },
        {
          "name": "stdout",
          "output_type": "stream",
          "text": [
            "Epoch 29/120 - Error: 0.154664\n"
          ]
        },
        {
          "name": "stderr",
          "output_type": "stream",
          "text": [
            "Epoch 30/120: 100%|██████████| 316888/316888 [01:46<00:00, 2972.88it/s]\n"
          ]
        },
        {
          "name": "stdout",
          "output_type": "stream",
          "text": [
            "Epoch 30/120 - Error: 0.154340\n"
          ]
        },
        {
          "name": "stderr",
          "output_type": "stream",
          "text": [
            "Epoch 31/120: 100%|██████████| 316888/316888 [02:04<00:00, 2549.08it/s]\n"
          ]
        },
        {
          "name": "stdout",
          "output_type": "stream",
          "text": [
            "Epoch 31/120 - Error: 0.154690\n"
          ]
        },
        {
          "name": "stderr",
          "output_type": "stream",
          "text": [
            "Epoch 32/120: 100%|██████████| 316888/316888 [02:02<00:00, 2586.47it/s]\n"
          ]
        },
        {
          "name": "stdout",
          "output_type": "stream",
          "text": [
            "Epoch 32/120 - Error: 0.151615\n"
          ]
        },
        {
          "name": "stderr",
          "output_type": "stream",
          "text": [
            "Epoch 33/120: 100%|██████████| 316888/316888 [01:48<00:00, 2928.22it/s]\n"
          ]
        },
        {
          "name": "stdout",
          "output_type": "stream",
          "text": [
            "Epoch 33/120 - Error: 0.155284\n"
          ]
        },
        {
          "name": "stderr",
          "output_type": "stream",
          "text": [
            "Epoch 34/120: 100%|██████████| 316888/316888 [00:44<00:00, 7179.32it/s]\n"
          ]
        },
        {
          "name": "stdout",
          "output_type": "stream",
          "text": [
            "Epoch 34/120 - Error: 0.153449\n"
          ]
        },
        {
          "name": "stderr",
          "output_type": "stream",
          "text": [
            "Epoch 35/120: 100%|██████████| 316888/316888 [01:58<00:00, 2677.15it/s]\n"
          ]
        },
        {
          "name": "stdout",
          "output_type": "stream",
          "text": [
            "Epoch 35/120 - Error: 0.152647\n"
          ]
        },
        {
          "name": "stderr",
          "output_type": "stream",
          "text": [
            "Epoch 36/120: 100%|██████████| 316888/316888 [03:12<00:00, 1650.05it/s]\n"
          ]
        },
        {
          "name": "stdout",
          "output_type": "stream",
          "text": [
            "Epoch 36/120 - Error: 0.154103\n"
          ]
        },
        {
          "name": "stderr",
          "output_type": "stream",
          "text": [
            "Epoch 37/120: 100%|██████████| 316888/316888 [03:01<00:00, 1746.73it/s]\n"
          ]
        },
        {
          "name": "stdout",
          "output_type": "stream",
          "text": [
            "Epoch 37/120 - Error: 0.156604\n"
          ]
        },
        {
          "name": "stderr",
          "output_type": "stream",
          "text": [
            "Epoch 38/120: 100%|██████████| 316888/316888 [02:32<00:00, 2076.69it/s]\n"
          ]
        },
        {
          "name": "stdout",
          "output_type": "stream",
          "text": [
            "Epoch 38/120 - Error: 0.154570\n"
          ]
        },
        {
          "name": "stderr",
          "output_type": "stream",
          "text": [
            "Epoch 39/120: 100%|██████████| 316888/316888 [01:13<00:00, 4292.75it/s]\n"
          ]
        },
        {
          "name": "stdout",
          "output_type": "stream",
          "text": [
            "Epoch 39/120 - Error: 0.161281\n"
          ]
        },
        {
          "name": "stderr",
          "output_type": "stream",
          "text": [
            "Epoch 40/120: 100%|██████████| 316888/316888 [01:14<00:00, 4262.13it/s]\n"
          ]
        },
        {
          "name": "stdout",
          "output_type": "stream",
          "text": [
            "Epoch 40/120 - Error: 0.151372\n"
          ]
        },
        {
          "name": "stderr",
          "output_type": "stream",
          "text": [
            "Epoch 41/120: 100%|██████████| 316888/316888 [01:32<00:00, 3422.08it/s]\n"
          ]
        },
        {
          "name": "stdout",
          "output_type": "stream",
          "text": [
            "Epoch 41/120 - Error: 0.156029\n"
          ]
        },
        {
          "name": "stderr",
          "output_type": "stream",
          "text": [
            "Epoch 42/120: 100%|██████████| 316888/316888 [01:09<00:00, 4583.36it/s]\n"
          ]
        },
        {
          "name": "stdout",
          "output_type": "stream",
          "text": [
            "Epoch 42/120 - Error: 0.151934\n"
          ]
        },
        {
          "name": "stderr",
          "output_type": "stream",
          "text": [
            "Epoch 43/120: 100%|██████████| 316888/316888 [01:02<00:00, 5083.74it/s]\n"
          ]
        },
        {
          "name": "stdout",
          "output_type": "stream",
          "text": [
            "Epoch 43/120 - Error: 0.159938\n"
          ]
        },
        {
          "name": "stderr",
          "output_type": "stream",
          "text": [
            "Epoch 44/120: 100%|██████████| 316888/316888 [01:16<00:00, 4165.97it/s]\n"
          ]
        },
        {
          "name": "stdout",
          "output_type": "stream",
          "text": [
            "Epoch 44/120 - Error: 0.153350\n"
          ]
        },
        {
          "name": "stderr",
          "output_type": "stream",
          "text": [
            "Epoch 45/120: 100%|██████████| 316888/316888 [01:12<00:00, 4357.55it/s]\n"
          ]
        },
        {
          "name": "stdout",
          "output_type": "stream",
          "text": [
            "Epoch 45/120 - Error: 0.157332\n"
          ]
        },
        {
          "name": "stderr",
          "output_type": "stream",
          "text": [
            "Epoch 46/120: 100%|██████████| 316888/316888 [01:02<00:00, 5110.38it/s]\n"
          ]
        },
        {
          "name": "stdout",
          "output_type": "stream",
          "text": [
            "Epoch 46/120 - Error: 0.161046\n"
          ]
        },
        {
          "name": "stderr",
          "output_type": "stream",
          "text": [
            "Epoch 47/120: 100%|██████████| 316888/316888 [00:54<00:00, 5830.21it/s]\n"
          ]
        },
        {
          "name": "stdout",
          "output_type": "stream",
          "text": [
            "Epoch 47/120 - Error: 0.174737\n"
          ]
        },
        {
          "name": "stderr",
          "output_type": "stream",
          "text": [
            "Epoch 48/120: 100%|██████████| 316888/316888 [01:07<00:00, 4701.11it/s]\n"
          ]
        },
        {
          "name": "stdout",
          "output_type": "stream",
          "text": [
            "Epoch 48/120 - Error: 0.161880\n"
          ]
        },
        {
          "name": "stderr",
          "output_type": "stream",
          "text": [
            "Epoch 49/120: 100%|██████████| 316888/316888 [01:14<00:00, 4246.86it/s]\n"
          ]
        },
        {
          "name": "stdout",
          "output_type": "stream",
          "text": [
            "Epoch 49/120 - Error: 0.155047\n"
          ]
        },
        {
          "name": "stderr",
          "output_type": "stream",
          "text": [
            "Epoch 50/120: 100%|██████████| 316888/316888 [00:56<00:00, 5569.05it/s]\n"
          ]
        },
        {
          "name": "stdout",
          "output_type": "stream",
          "text": [
            "Epoch 50/120 - Error: 0.153532\n"
          ]
        },
        {
          "name": "stderr",
          "output_type": "stream",
          "text": [
            "Epoch 51/120: 100%|██████████| 316888/316888 [00:56<00:00, 5573.43it/s]\n"
          ]
        },
        {
          "name": "stdout",
          "output_type": "stream",
          "text": [
            "Epoch 51/120 - Error: 0.157517\n"
          ]
        },
        {
          "name": "stderr",
          "output_type": "stream",
          "text": [
            "Epoch 52/120: 100%|██████████| 316888/316888 [01:07<00:00, 4719.57it/s]\n"
          ]
        },
        {
          "name": "stdout",
          "output_type": "stream",
          "text": [
            "Epoch 52/120 - Error: 0.175142\n"
          ]
        },
        {
          "name": "stderr",
          "output_type": "stream",
          "text": [
            "Epoch 53/120: 100%|██████████| 316888/316888 [02:11<00:00, 2409.26it/s]\n"
          ]
        },
        {
          "name": "stdout",
          "output_type": "stream",
          "text": [
            "Epoch 53/120 - Error: 0.154319\n"
          ]
        },
        {
          "name": "stderr",
          "output_type": "stream",
          "text": [
            "Epoch 54/120: 100%|██████████| 316888/316888 [02:20<00:00, 2262.65it/s]\n"
          ]
        },
        {
          "name": "stdout",
          "output_type": "stream",
          "text": [
            "Epoch 54/120 - Error: 0.152937\n"
          ]
        },
        {
          "name": "stderr",
          "output_type": "stream",
          "text": [
            "Epoch 55/120: 100%|██████████| 316888/316888 [02:03<00:00, 2569.58it/s]\n"
          ]
        },
        {
          "name": "stdout",
          "output_type": "stream",
          "text": [
            "Epoch 55/120 - Error: 0.180736\n"
          ]
        },
        {
          "name": "stderr",
          "output_type": "stream",
          "text": [
            "Epoch 56/120: 100%|██████████| 316888/316888 [02:03<00:00, 2564.11it/s]\n"
          ]
        },
        {
          "name": "stdout",
          "output_type": "stream",
          "text": [
            "Epoch 56/120 - Error: 0.155430\n"
          ]
        },
        {
          "name": "stderr",
          "output_type": "stream",
          "text": [
            "Epoch 57/120: 100%|██████████| 316888/316888 [02:43<00:00, 1935.52it/s]\n"
          ]
        },
        {
          "name": "stdout",
          "output_type": "stream",
          "text": [
            "Epoch 57/120 - Error: 0.153897\n"
          ]
        },
        {
          "name": "stderr",
          "output_type": "stream",
          "text": [
            "Epoch 58/120: 100%|██████████| 316888/316888 [02:16<00:00, 2321.47it/s]\n"
          ]
        },
        {
          "name": "stdout",
          "output_type": "stream",
          "text": [
            "Epoch 58/120 - Error: 0.153897\n"
          ]
        },
        {
          "name": "stderr",
          "output_type": "stream",
          "text": [
            "Epoch 59/120: 100%|██████████| 316888/316888 [02:45<00:00, 1909.38it/s]\n"
          ]
        },
        {
          "name": "stdout",
          "output_type": "stream",
          "text": [
            "Epoch 59/120 - Error: 0.153897\n"
          ]
        },
        {
          "name": "stderr",
          "output_type": "stream",
          "text": [
            "Epoch 60/120: 100%|██████████| 316888/316888 [02:06<00:00, 2502.27it/s]\n"
          ]
        },
        {
          "name": "stdout",
          "output_type": "stream",
          "text": [
            "Epoch 60/120 - Error: 0.153897\n"
          ]
        },
        {
          "name": "stderr",
          "output_type": "stream",
          "text": [
            "Epoch 61/120: 100%|██████████| 316888/316888 [02:28<00:00, 2136.51it/s]\n"
          ]
        },
        {
          "name": "stdout",
          "output_type": "stream",
          "text": [
            "Epoch 61/120 - Error: 0.153897\n"
          ]
        },
        {
          "name": "stderr",
          "output_type": "stream",
          "text": [
            "Epoch 62/120: 100%|██████████| 316888/316888 [03:00<00:00, 1751.26it/s]\n"
          ]
        },
        {
          "name": "stdout",
          "output_type": "stream",
          "text": [
            "Epoch 62/120 - Error: 0.153897\n"
          ]
        },
        {
          "name": "stderr",
          "output_type": "stream",
          "text": [
            "Epoch 63/120: 100%|██████████| 316888/316888 [01:46<00:00, 2973.46it/s]\n"
          ]
        },
        {
          "name": "stdout",
          "output_type": "stream",
          "text": [
            "Epoch 63/120 - Error: 0.153897\n"
          ]
        },
        {
          "name": "stderr",
          "output_type": "stream",
          "text": [
            "Epoch 64/120: 100%|██████████| 316888/316888 [01:57<00:00, 2692.25it/s]\n"
          ]
        },
        {
          "name": "stdout",
          "output_type": "stream",
          "text": [
            "Epoch 64/120 - Error: 0.153897\n"
          ]
        },
        {
          "name": "stderr",
          "output_type": "stream",
          "text": [
            "Epoch 65/120: 100%|██████████| 316888/316888 [03:38<00:00, 1451.14it/s]\n"
          ]
        },
        {
          "name": "stdout",
          "output_type": "stream",
          "text": [
            "Epoch 65/120 - Error: 0.153897\n"
          ]
        },
        {
          "name": "stderr",
          "output_type": "stream",
          "text": [
            "Epoch 66/120:  82%|████████▏ | 259770/316888 [01:38<00:21, 2647.12it/s]\n"
          ]
        },
        {
          "ename": "KeyboardInterrupt",
          "evalue": "",
          "output_type": "error",
          "traceback": [
            "\u001b[1;31m---------------------------------------------------------------------------\u001b[0m",
            "\u001b[1;31mKeyboardInterrupt\u001b[0m                         Traceback (most recent call last)",
            "Cell \u001b[1;32mIn[32], line 18\u001b[0m\n\u001b[0;32m     15\u001b[0m model \u001b[38;5;241m=\u001b[39m CometNet(network, input_size)\n\u001b[0;32m     17\u001b[0m \u001b[38;5;66;03m# Train the network\u001b[39;00m\n\u001b[1;32m---> 18\u001b[0m \u001b[43mmodel\u001b[49m\u001b[38;5;241;43m.\u001b[39;49m\u001b[43mtrain\u001b[49m\u001b[43m(\u001b[49m\u001b[43mX_train\u001b[49m\u001b[43m,\u001b[49m\u001b[43m \u001b[49m\u001b[43my_train\u001b[49m\u001b[43m,\u001b[49m\u001b[43m \u001b[49m\u001b[43mepochs\u001b[49m\u001b[38;5;241;43m=\u001b[39;49m\u001b[38;5;241;43m120\u001b[39;49m\u001b[43m,\u001b[49m\u001b[43m \u001b[49m\u001b[43mlearning_rate\u001b[49m\u001b[38;5;241;43m=\u001b[39;49m\u001b[38;5;241;43m0.01\u001b[39;49m\u001b[43m)\u001b[49m\n",
            "Cell \u001b[1;32mIn[21], line 99\u001b[0m, in \u001b[0;36mCometNet.train\u001b[1;34m(self, X, y, epochs, learning_rate)\u001b[0m\n\u001b[0;32m     97\u001b[0m     grad \u001b[38;5;241m=\u001b[39m Loss\u001b[38;5;241m.\u001b[39mmse_derivative(y_true, output)\n\u001b[0;32m     98\u001b[0m     \u001b[38;5;28;01mfor\u001b[39;00m layer \u001b[38;5;129;01min\u001b[39;00m \u001b[38;5;28mreversed\u001b[39m(\u001b[38;5;28mself\u001b[39m\u001b[38;5;241m.\u001b[39mlayers):\n\u001b[1;32m---> 99\u001b[0m         grad \u001b[38;5;241m=\u001b[39m \u001b[43mlayer\u001b[49m\u001b[38;5;241;43m.\u001b[39;49m\u001b[43mbackward\u001b[49m\u001b[43m(\u001b[49m\u001b[43mgrad\u001b[49m\u001b[43m,\u001b[49m\u001b[43m \u001b[49m\u001b[43mlearning_rate\u001b[49m\u001b[43m)\u001b[49m\n\u001b[0;32m    101\u001b[0m error \u001b[38;5;241m/\u001b[39m\u001b[38;5;241m=\u001b[39m \u001b[38;5;28mlen\u001b[39m(X)\n\u001b[0;32m    102\u001b[0m \u001b[38;5;28mprint\u001b[39m(\u001b[38;5;124mf\u001b[39m\u001b[38;5;124m\"\u001b[39m\u001b[38;5;124mEpoch \u001b[39m\u001b[38;5;132;01m{\u001b[39;00mepoch\u001b[38;5;250m \u001b[39m\u001b[38;5;241m+\u001b[39m\u001b[38;5;250m \u001b[39m\u001b[38;5;241m1\u001b[39m\u001b[38;5;132;01m}\u001b[39;00m\u001b[38;5;124m/\u001b[39m\u001b[38;5;132;01m{\u001b[39;00mepochs\u001b[38;5;132;01m}\u001b[39;00m\u001b[38;5;124m - Error: \u001b[39m\u001b[38;5;132;01m{\u001b[39;00merror\u001b[38;5;132;01m:\u001b[39;00m\u001b[38;5;124m.6f\u001b[39m\u001b[38;5;132;01m}\u001b[39;00m\u001b[38;5;124m\"\u001b[39m)\n",
            "Cell \u001b[1;32mIn[21], line 36\u001b[0m, in \u001b[0;36mDense.backward\u001b[1;34m(self, output_gradient, learning_rate)\u001b[0m\n\u001b[0;32m     34\u001b[0m \u001b[38;5;28mself\u001b[39m\u001b[38;5;241m.\u001b[39mweights \u001b[38;5;241m-\u001b[39m\u001b[38;5;241m=\u001b[39m learning_rate \u001b[38;5;241m*\u001b[39m weights_gradient\n\u001b[0;32m     35\u001b[0m \u001b[38;5;28mself\u001b[39m\u001b[38;5;241m.\u001b[39mbias \u001b[38;5;241m-\u001b[39m\u001b[38;5;241m=\u001b[39m learning_rate \u001b[38;5;241m*\u001b[39m output_gradient\n\u001b[1;32m---> 36\u001b[0m \u001b[38;5;28;01mreturn\u001b[39;00m \u001b[43mnp\u001b[49m\u001b[38;5;241;43m.\u001b[39;49m\u001b[43mdot\u001b[49m\u001b[43m(\u001b[49m\u001b[38;5;28;43mself\u001b[39;49m\u001b[38;5;241;43m.\u001b[39;49m\u001b[43mweights\u001b[49m\u001b[38;5;241;43m.\u001b[39;49m\u001b[43mT\u001b[49m\u001b[43m,\u001b[49m\u001b[43m \u001b[49m\u001b[43moutput_gradient\u001b[49m\u001b[43m)\u001b[49m\n",
            "File \u001b[1;32mc:\\Users\\kani2\\AppData\\Local\\Programs\\Python\\Python311\\Lib\\site-packages\\numpy\\core\\multiarray.py:741\u001b[0m, in \u001b[0;36mdot\u001b[1;34m(a, b, out)\u001b[0m\n\u001b[0;32m    671\u001b[0m \u001b[38;5;250m    \u001b[39m\u001b[38;5;124;03m\"\"\"\u001b[39;00m\n\u001b[0;32m    672\u001b[0m \u001b[38;5;124;03m    result_type(*arrays_and_dtypes)\u001b[39;00m\n\u001b[0;32m    673\u001b[0m \n\u001b[1;32m   (...)\u001b[0m\n\u001b[0;32m    736\u001b[0m \n\u001b[0;32m    737\u001b[0m \u001b[38;5;124;03m    \"\"\"\u001b[39;00m\n\u001b[0;32m    738\u001b[0m     \u001b[38;5;28;01mreturn\u001b[39;00m arrays_and_dtypes\n\u001b[1;32m--> 741\u001b[0m \u001b[38;5;129m@array_function_from_c_func_and_dispatcher\u001b[39m(_multiarray_umath\u001b[38;5;241m.\u001b[39mdot)\n\u001b[0;32m    742\u001b[0m \u001b[38;5;28;01mdef\u001b[39;00m \u001b[38;5;21mdot\u001b[39m(a, b, out\u001b[38;5;241m=\u001b[39m\u001b[38;5;28;01mNone\u001b[39;00m):\n\u001b[0;32m    743\u001b[0m \u001b[38;5;250m    \u001b[39m\u001b[38;5;124;03m\"\"\"\u001b[39;00m\n\u001b[0;32m    744\u001b[0m \u001b[38;5;124;03m    dot(a, b, out=None)\u001b[39;00m\n\u001b[0;32m    745\u001b[0m \n\u001b[1;32m   (...)\u001b[0m\n\u001b[0;32m    829\u001b[0m \n\u001b[0;32m    830\u001b[0m \u001b[38;5;124;03m    \"\"\"\u001b[39;00m\n\u001b[0;32m    831\u001b[0m     \u001b[38;5;28;01mreturn\u001b[39;00m (a, b, out)\n",
            "\u001b[1;31mKeyboardInterrupt\u001b[0m: "
          ]
        }
      ],
      "source": [
        "X_train = np.array(X_train)  # Ensure X_train is a numpy array\n",
        "y_train = np.array(y_train)  # Ensure y_train is a numpy array\n",
        "# Define the network architecture\n",
        "input_size = X_train[0].shape  # User-defined input size\n",
        "network = [\n",
        "    Dense(23),\n",
        "    ReLU(),\n",
        "    Dense(33),\n",
        "    ReLU(),\n",
        "    Dense(1),\n",
        "    Sigmoid()\n",
        "]\n",
        "\n",
        "# Create the model\n",
        "model = CometNet(network, input_size)\n",
        "\n",
        "# Train the network\n",
        "model.train(X_train, y_train, epochs=120, learning_rate=0.01)\n",
        "\n"
      ]
    },
    {
      "cell_type": "code",
      "execution_count": 33,
      "metadata": {
        "colab": {
          "base_uri": "https://localhost:8080/",
          "height": 373
        },
        "id": "Y-4NM1fQWwYn",
        "outputId": "ddc52df1-8b8b-4fc8-ed09-04beb7414852"
      },
      "outputs": [
        {
          "name": "stderr",
          "output_type": "stream",
          "text": [
            "C:\\Users\\kani2\\AppData\\Local\\Temp\\ipykernel_11484\\4244579824.py:53: RuntimeWarning: overflow encountered in exp\n",
            "  return 1 / (1 + np.exp(-x))\n"
          ]
        },
        {
          "name": "stdout",
          "output_type": "stream",
          "text": [
            "(79222, 1)\n",
            "(79222, 1)\n",
            "(79222, 1)\n",
            "[[38873  8628]\n",
            " [26005  5716]]\n",
            "              precision    recall  f1-score   support\n",
            "\n",
            "           0       0.60      0.82      0.69     47501\n",
            "           1       0.40      0.18      0.25     31721\n",
            "\n",
            "    accuracy                           0.56     79222\n",
            "   macro avg       0.50      0.50      0.47     79222\n",
            "weighted avg       0.52      0.56      0.51     79222\n",
            "\n"
          ]
        }
      ],
      "source": [
        "X_test = np.array(X_test)\n",
        "y_test = np.array(y_test)\n",
        "\n",
        "X_test = X_test.reshape(input_size[0], -1)\n",
        "y_test = y_test.reshape(y_test.shape[0], -1)\n",
        "\n",
        "# test the model\n",
        "y_pred = model.predict(X_test)\n",
        "y_pred_classes = (y_pred > 0.5).astype(int)\n",
        "y_pred_classes = y_pred_classes.T\n",
        "print(y_pred.T.shape)\n",
        "print(y_test.shape)\n",
        "print(y_pred_classes.shape)\n",
        "y_pred_classes = y_pred_classes.reshape(y_pred_classes.shape[0], -1)\n",
        "\n",
        "\n",
        "# # check confution matrix\n",
        "from sklearn.metrics import confusion_matrix\n",
        "cm = confusion_matrix(y_test, y_pred_classes)\n",
        "print(cm)\n",
        "\n",
        "#classification report\n",
        "from sklearn.metrics import classification_report\n",
        "print(classification_report(y_test, y_pred_classes))\n"
      ]
    },
    {
      "cell_type": "code",
      "execution_count": null,
      "metadata": {},
      "outputs": [],
      "source": [
        "X_train = np.array(X_train)  # Ensure X_train is a numpy array\n",
        "y_train = np.array(y_train)  # Ensure y_train is a numpy array\n",
        "# Define the network architecture\n",
        "input_size = X_train[0].shape  # User-defined input size\n",
        "network = [\n",
        "    Dense(23),\n",
        "    ReLU(),\n",
        "    Dense(33),\n",
        "    ReLU(),\n",
        "    Dense(1),\n",
        "    Sigmoid()\n",
        "]\n",
        "\n",
        "# Create the model\n",
        "model = CometNet(network, input_size)\n",
        "\n",
        "# Train the network\n",
        "model.train(X_train, y_train, epochs=120, learning_rate=0.01)\n",
        "\n"
      ]
    }
  ],
  "metadata": {
    "accelerator": "GPU",
    "colab": {
      "gpuType": "T4",
      "provenance": []
    },
    "kernelspec": {
      "display_name": "Python 3",
      "name": "python3"
    },
    "language_info": {
      "codemirror_mode": {
        "name": "ipython",
        "version": 3
      },
      "file_extension": ".py",
      "mimetype": "text/x-python",
      "name": "python",
      "nbconvert_exporter": "python",
      "pygments_lexer": "ipython3",
      "version": "3.11.3"
    }
  },
  "nbformat": 4,
  "nbformat_minor": 0
}
