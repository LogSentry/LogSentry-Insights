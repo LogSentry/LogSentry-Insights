{
 "cells": [
  {
   "cell_type": "code",
   "execution_count": null,
   "metadata": {},
   "outputs": [],
   "source": [
    "import gdown\n",
    "from tqdm import tqdm\n",
    "import zipfile\n",
    "import os\n",
    "\n",
    "def download_and_extract(url, output, extract=True):\n",
    "    \"\"\"\n",
    "    Download a file from Google Drive and optionally extract it if it's a zip file.\n",
    "    Shows a progress bar for both download and extraction.\n",
    "    \"\"\"\n",
    "    # Download the file\n",
    "    print(f\"Downloading {output}...\")\n",
    "    with tqdm(unit='B', unit_scale=True, unit_divisor=1024, miniters=1, desc=output) as progress_bar:\n",
    "        gdown.download(url, output, quiet=False, callback=lambda x: progress_bar.update(x))\n",
    "    \n",
    "    if extract and output.endswith('.zip'):\n",
    "        # Extract the file if it's a zip\n",
    "        print(f\"\\nExtracting {output}...\")\n",
    "        with zipfile.ZipFile(output, 'r') as zip_ref:\n",
    "            total = sum((file.file_size for file in zip_ref.infolist()))\n",
    "            extracted = 0\n",
    "            with tqdm(total=total, unit='B', unit_scale=True, unit_divisor=1024, miniters=1, desc=\"Extracting\") as progress_bar:\n",
    "                for file in zip_ref.infolist():\n",
    "                    zip_ref.extract(file)\n",
    "                    extracted += file.file_size\n",
    "                    progress_bar.update(file.file_size)\n",
    "        \n",
    "        #remove the zip file after extraction\n",
    "        os.remove(output)\n",
    "        print(f\"\\n{output} has been extracted and the zip file has been removed.\")\n",
    "    else:\n",
    "        print(f\"\\n{output} has been downloaded successfully.\")\n",
    "\n",
    "''' Usage example\n",
    "url = \"https://drive.google.com/uc?id=YOUR_FILE_ID\"\n",
    "output = \"dataset.zip\"  # Change this to your desired filename\n",
    "\n",
    "download_and_extract(url, output) '''"
   ]
  },
  {
   "cell_type": "code",
   "execution_count": 6,
   "metadata": {},
   "outputs": [
    {
     "name": "stderr",
     "output_type": "stream",
     "text": [
      "Extracting:   0%|          | 0/14 [00:00<?, ?file/s]"
     ]
    },
    {
     "name": "stdout",
     "output_type": "stream",
     "text": [
      "Error extracting member: [Errno 28] No space left on device\n",
      "Error extracting member: [Errno 28] No space left on device\n",
      "Error extracting member: [Errno 28] No space left on device\n"
     ]
    }
   ],
   "source": [
    "import tarfile\n",
    "import os\n",
    "from tqdm import tqdm\n",
    "from concurrent.futures import ThreadPoolExecutor, as_completed\n",
    "\n",
    "def extract_member(tar, member, extract_to):\n",
    "    \"\"\"\n",
    "    Extracts a single member from the tar file.\n",
    "    \n",
    "    Args:\n",
    "        tar (tarfile.TarFile): The tarfile object.\n",
    "        member (tarfile.TarInfo): The member to extract.\n",
    "        extract_to (str): Directory where the contents should be extracted.\n",
    "        \n",
    "    Returns:\n",
    "        str: The name of the extracted file.\n",
    "    \"\"\"\n",
    "    tar.extract(member, path=extract_to)\n",
    "    return member.name\n",
    "\n",
    "def extract_tar_gz(tar_gz_path, extract_to, num_threads=4):\n",
    "    \"\"\"\n",
    "    Extracts a .tar.gz file to a specified directory with a progress bar and multi-threading.\n",
    "    \n",
    "    Args:\n",
    "        tar_gz_path (str): Path to the .tar.gz file.\n",
    "        extract_to (str): Directory where the contents should be extracted.\n",
    "        num_threads (int): Number of threads to use for extraction.\n",
    "        \n",
    "    Returns:\n",
    "        None\n",
    "    \"\"\"\n",
    "    # Ensure the directory exists\n",
    "    if not os.path.exists(extract_to):\n",
    "        os.makedirs(extract_to)\n",
    "\n",
    "    try:\n",
    "        with tarfile.open(tar_gz_path, \"r:gz\") as tar:\n",
    "            # Get the list of members in the tar file\n",
    "            members = tar.getmembers()\n",
    "            \n",
    "            # Create a progress bar for the extraction process\n",
    "            with tqdm(total=len(members), desc=\"Extracting\", unit=\"file\") as pbar:\n",
    "                # Create a ThreadPoolExecutor for multi-threading\n",
    "                with ThreadPoolExecutor(max_workers=num_threads) as executor:\n",
    "                    futures = []\n",
    "                    \n",
    "                    for member in members:\n",
    "                        futures.append(executor.submit(extract_member, tar, member, extract_to))\n",
    "                    \n",
    "                    for future in as_completed(futures):\n",
    "                        try:\n",
    "                            future.result()  # To raise any exceptions from the threads\n",
    "                            pbar.update(1)\n",
    "                        except Exception as e:\n",
    "                            print(f\"Error extracting member: {e}\")\n",
    "\n",
    "        print(f\"Extracted {tar_gz_path} to {extract_to}\")\n",
    "    except tarfile.TarError as e:\n",
    "        print(f\"Error extracting {tar_gz_path}: {e}\")\n",
    "\n",
    "# Example usage:\n",
    "extract_tar_gz('DDoS-ACK_Fragmentation.tar.gz', './out')\n"
   ]
  }
 ],
 "metadata": {
  "kernelspec": {
   "display_name": "Python 3",
   "language": "python",
   "name": "python3"
  },
  "language_info": {
   "codemirror_mode": {
    "name": "ipython",
    "version": 3
   },
   "file_extension": ".py",
   "mimetype": "text/x-python",
   "name": "python",
   "nbconvert_exporter": "python",
   "pygments_lexer": "ipython3",
   "version": "3.11.3"
  }
 },
 "nbformat": 4,
 "nbformat_minor": 2
}
